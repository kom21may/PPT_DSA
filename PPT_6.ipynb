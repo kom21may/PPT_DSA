{
 "cells": [
  {
   "cell_type": "markdown",
   "id": "4274021e",
   "metadata": {},
   "source": [
    "Q1: A permutation perm of n + 1 integers of all the integers in the range [0, n] can be represented as a string s of length n where:\n",
    "\n",
    "- s[i] == 'I' if perm[i] < perm[i + 1], and\n",
    "- s[i] == 'D' if perm[i] > perm[i + 1].\n",
    "\n",
    "Given a string s, reconstruct the permutation perm and return it. If there are multiple valid permutations perm, return **any of them**.\n",
    "\n",
    "**Example 1:**\n",
    "\n",
    "**Input:** s = \"IDID\"\n",
    "\n",
    "**Output:**\n",
    "\n",
    "[0,4,1,3,2]"
   ]
  },
  {
   "cell_type": "code",
   "execution_count": 1,
   "id": "fe104eea",
   "metadata": {},
   "outputs": [],
   "source": [
    "def reconstruct_permutation(s):\n",
    "    n = len(s)\n",
    "    perm = []\n",
    "    low, high = 0, n\n",
    "\n",
    "    for c in s:\n",
    "        if c == 'I':\n",
    "            perm.append(low)\n",
    "            low += 1\n",
    "        else:\n",
    "            perm.append(high)\n",
    "            high -= 1\n",
    "\n",
    "    perm.append(low)  # Append the remaining value\n",
    "\n",
    "    return perm"
   ]
  },
  {
   "cell_type": "code",
   "execution_count": 2,
   "id": "f5f711ab",
   "metadata": {},
   "outputs": [
    {
     "name": "stdout",
     "output_type": "stream",
     "text": [
      "[0, 4, 1, 3, 2]\n"
     ]
    }
   ],
   "source": [
    "s = \"IDID\"\n",
    "reconstructed_permutation = reconstruct_permutation(s)\n",
    "print(reconstructed_permutation)"
   ]
  },
  {
   "cell_type": "markdown",
   "id": "e5f76fe8",
   "metadata": {},
   "source": [
    "The time complexity of the reconstruct_permutation function is O(n), where n is the length of the input string s. This is because we iterate through each character of the string once, performing constant-time operations for each character.\n",
    "\n",
    "The space complexity of the function is O(n) as well. This is because we create a list perm to store the reconstructed permutation, which can potentially have a length of n. Additionally, we use a few extra variables that require constant space."
   ]
  },
  {
   "cell_type": "markdown",
   "id": "12f98758",
   "metadata": {},
   "source": [
    "Q2: You are given an m x n integer matrix matrix with the following two properties:\n",
    "\n",
    "- Each row is sorted in non-decreasing order.\n",
    "- The first integer of each row is greater than the last integer of the previous row.\n",
    "\n",
    "Given an integer target, return true *if* target *is in* matrix *or* false *otherwise*.\n",
    "\n",
    "You must write a solution in O(log(m * n)) time complexity."
   ]
  },
  {
   "cell_type": "code",
   "execution_count": 3,
   "id": "918d7fb0",
   "metadata": {},
   "outputs": [],
   "source": [
    "def searchMatrix(matrix, target):\n",
    "    m, n = len(matrix), len(matrix[0])\n",
    "    left, right = 0, m * n - 1\n",
    "\n",
    "    while left <= right:\n",
    "        mid = (left + right) // 2\n",
    "        row = mid // n\n",
    "        col = mid % n\n",
    "        if matrix[row][col] == target:\n",
    "            return True\n",
    "        elif matrix[row][col] < target:\n",
    "            left = mid + 1\n",
    "        else:\n",
    "            right = mid - 1\n",
    "\n",
    "    return False"
   ]
  },
  {
   "cell_type": "code",
   "execution_count": 4,
   "id": "982216f5",
   "metadata": {},
   "outputs": [
    {
     "data": {
      "text/plain": [
       "True"
      ]
     },
     "execution_count": 4,
     "metadata": {},
     "output_type": "execute_result"
    }
   ],
   "source": [
    "matrix = [[1,3,5,7],[10,11,16,20],[23,30,34,60]]\n",
    "target = 3\n",
    "c=searchMatrix(matrix,target)\n",
    "c"
   ]
  },
  {
   "cell_type": "markdown",
   "id": "4ddb9c67",
   "metadata": {},
   "source": [
    "This algorithm performs a modified binary search on the matrix, treating it as a 1D sorted array. The time complexity is O(log(m * n)) since we divide the search space by half in each iteration. The space complexity is O(1) since we use a constant amount of additional space."
   ]
  },
  {
   "cell_type": "markdown",
   "id": "5ad53761",
   "metadata": {},
   "source": [
    "Q3: Given an array of integers arr, return *true if and only if it is a valid mountain array*.\n",
    "\n",
    "Recall that arr is a mountain array if and only if:\n",
    "\n",
    "- arr.length >= 3\n",
    "- There exists some i with 0 < i < arr.length - 1 such that:\n",
    "    - arr[0] < arr[1] < ... < arr[i - 1] < arr[i]\n",
    "    - arr[i] > arr[i + 1] > ... > arr[arr.length - 1]"
   ]
  },
  {
   "cell_type": "code",
   "execution_count": 5,
   "id": "9690f961",
   "metadata": {},
   "outputs": [],
   "source": [
    "def validMountainArray(arr):\n",
    "    n = len(arr)\n",
    "    if n < 3:\n",
    "        return False\n",
    "\n",
    "    i, j = 0, n - 1\n",
    "\n",
    "    while i + 1 < n and arr[i] < arr[i + 1]:\n",
    "        i += 1\n",
    "\n",
    "    while j > 0 and arr[j - 1] > arr[j]:\n",
    "        j -= 1\n",
    "\n",
    "    return i == j and i != 0 and j != n - 1"
   ]
  },
  {
   "cell_type": "code",
   "execution_count": 6,
   "id": "6ef51812",
   "metadata": {},
   "outputs": [
    {
     "name": "stdout",
     "output_type": "stream",
     "text": [
      "False\n",
      "True\n",
      "True\n"
     ]
    }
   ],
   "source": [
    "arr = [2, 1]\n",
    "print(validMountainArray(arr)) \n",
    "\n",
    "arr = [3, 5, 2]\n",
    "print(validMountainArray(arr))  \n",
    "\n",
    "arr = [0, 3, 2, 1]\n",
    "print(validMountainArray(arr))  "
   ]
  },
  {
   "cell_type": "markdown",
   "id": "4ae20bed",
   "metadata": {},
   "source": [
    "The time complexity of the validMountainArray function is O(n), where n is the length of the input array arr. This is because in the worst case, we may need to iterate through the entire array to find the peak of the mountain.\n",
    "\n",
    "The space complexity of the function is O(1) since we use a constant amount of additional space for the pointers i and j.\n",
    "\n"
   ]
  },
  {
   "cell_type": "markdown",
   "id": "b0fdc381",
   "metadata": {},
   "source": [
    "Given a binary array nums, return *the maximum length of a contiguous subarray with an equal number of* 0 *and* 1.\n",
    "\n",
    "**Example 1:**\n",
    "\n",
    "**Input:** nums = [0,1]\n",
    "\n",
    "**Output:** 2\n",
    "\n",
    "**Explanation:**\n",
    "\n",
    "[0, 1] is the longest contiguous subarray with an equal number of 0 and 1."
   ]
  },
  {
   "cell_type": "code",
   "execution_count": 7,
   "id": "aa9cbf17",
   "metadata": {},
   "outputs": [],
   "source": [
    "def findMaxLength(nums):\n",
    "    max_length = 0\n",
    "    count = 0\n",
    "    count_dict = {0: -1}\n",
    "\n",
    "    for i, num in enumerate(nums):\n",
    "        count += 1 if num == 1 else -1\n",
    "\n",
    "        if count in count_dict:\n",
    "            max_length = max(max_length, i - count_dict[count])\n",
    "        else:\n",
    "            count_dict[count] = i\n",
    "\n",
    "    return max_length"
   ]
  },
  {
   "cell_type": "code",
   "execution_count": 8,
   "id": "49c27886",
   "metadata": {},
   "outputs": [
    {
     "name": "stdout",
     "output_type": "stream",
     "text": [
      "2\n"
     ]
    }
   ],
   "source": [
    "nums = [0, 1]\n",
    "print(findMaxLength(nums)) "
   ]
  },
  {
   "cell_type": "markdown",
   "id": "1aaa8ce6",
   "metadata": {},
   "source": [
    "The time complexity of the findMaxLength function is O(n), where n is the length of the input array nums. This is because we iterate through the array once, performing constant-time operations for each element.\n",
    "\n",
    "The space complexity of the function is O(n) as well. This is because in the worst case, all the elements in the array can be distinct, and we store each unique count in the count_dict dictionary. Therefore, the space required for the dictionary is proportional to the number of distinct counts, which can be at most n."
   ]
  },
  {
   "cell_type": "markdown",
   "id": "24577119",
   "metadata": {},
   "source": [
    "**Question 5**\n",
    "\n",
    "The **product sum** of two equal-length arrays a and b is equal to the sum of a[i] * b[i] for all 0 <= i < a.length (**0-indexed**).\n",
    "\n",
    "- For example, if a = [1,2,3,4] and b = [5,2,3,1], the **product sum** would be 1*5 + 2*2 + 3*3 + 4*1 = 22.\n",
    "\n",
    "Given two arrays nums1 and nums2 of length n, return *the **minimum product sum** if you are allowed to **rearrange** the **order** of the elements in* nums1.\n",
    "\n",
    "**Example 1:**\n",
    "\n",
    "**Input:** nums1 = [5,3,4,2], nums2 = [4,2,2,5]\n",
    "\n",
    "**Output:** 40\n",
    "\n",
    "**Explanation:**\n",
    "\n",
    "We can rearrange nums1 to become [3,5,4,2]. The product sum of [3,5,4,2] and [4,2,2,5] is 3*4 + 5*2 + 4*2 + 2*5 = 40."
   ]
  },
  {
   "cell_type": "code",
   "execution_count": 9,
   "id": "18dec04c",
   "metadata": {},
   "outputs": [],
   "source": [
    "def minProductSum(nums1, nums2):\n",
    "    nums1.sort()\n",
    "    nums2.sort(reverse=True)\n",
    "    min_product_sum = 0\n",
    "\n",
    "    for i in range(len(nums1)):\n",
    "        min_product_sum += nums1[i] * nums2[i]\n",
    "\n",
    "    return min_product_sum"
   ]
  },
  {
   "cell_type": "code",
   "execution_count": 10,
   "id": "4984b320",
   "metadata": {},
   "outputs": [
    {
     "name": "stdout",
     "output_type": "stream",
     "text": [
      "40\n"
     ]
    }
   ],
   "source": [
    "nums1 = [5, 3, 4, 2]\n",
    "nums2 = [4, 2, 2, 5]\n",
    "print(minProductSum(nums1, nums2))"
   ]
  },
  {
   "cell_type": "markdown",
   "id": "ba3a723d",
   "metadata": {},
   "source": [
    "The time complexity of the minProductSum function is O(n log n), where n is the length of the input arrays nums1 and nums2. This is because we sort both arrays using the built-in sorting algorithm, which has an average time complexity of O(n log n) in Python.\n",
    "\n",
    "The space complexity of the function is O(1) since we only use a constant amount of additional space for variables, regardless of the input size."
   ]
  },
  {
   "cell_type": "markdown",
   "id": "ec88fb9b",
   "metadata": {},
   "source": [
    "<aside>\n",
    "💡 **Question 6**\n",
    "\n",
    "An integer array original is transformed into a **doubled** array changed by appending **twice the value** of every element in original, and then randomly **shuffling** the resulting array.\n",
    "\n",
    "Given an array changed, return original *if* changed *is a **doubled** array. If* changed *is not a **doubled** array, return an empty array. The elements in* original *may be returned in **any** order*.\n",
    "\n",
    "**Example 1:**\n",
    "\n",
    "**Input:** changed = [1,3,4,2,6,8]\n",
    "\n",
    "**Output:** [1,3,4]\n",
    "\n",
    "**Explanation:** One possible original array could be [1,3,4]:\n",
    "\n",
    "- Twice the value of 1 is 1 * 2 = 2.\n",
    "- Twice the value of 3 is 3 * 2 = 6.\n",
    "- Twice the value of 4 is 4 * 2 = 8.\n",
    "\n",
    "Other original arrays could be [4,3,1] or [3,1,4].\n",
    "\n",
    "</aside>"
   ]
  },
  {
   "cell_type": "code",
   "execution_count": 18,
   "id": "734ba1ac",
   "metadata": {},
   "outputs": [
    {
     "name": "stdout",
     "output_type": "stream",
     "text": [
      "1 2 2 4 "
     ]
    }
   ],
   "source": [
    "def findOriginal(arr):\n",
    " \n",
    "    # Stores the numbers and\n",
    "    # their frequency\n",
    "    numFreq = {}\n",
    " \n",
    "    # Add number with their frequencies\n",
    "    # in the hashmap\n",
    "    for i in range(0, len(arr)):\n",
    "        if (arr[i] in numFreq):\n",
    "            numFreq[arr[i]] += 1\n",
    "        else:\n",
    "            numFreq[arr[i]] = 1\n",
    " \n",
    "    # Sort the array\n",
    "    arr.sort()\n",
    " \n",
    "    # Initialize an arraylist\n",
    "    res = []\n",
    " \n",
    "    for i in range(0, len(arr)):\n",
    "       \n",
    "        # Get the frequency of the number\n",
    "        freq = numFreq[arr[i]]\n",
    "        if (freq > 0):\n",
    "           \n",
    "            # Element is of original array\n",
    "            res.append(arr[i])\n",
    " \n",
    "            # Decrement the frequency of\n",
    "            # the number\n",
    "            numFreq[arr[i]] -= 1\n",
    " \n",
    "            twice = 2 * arr[i]\n",
    " \n",
    "            # Decrement the frequency of\n",
    "            # the number having double value\n",
    "            numFreq[twice] -= 1\n",
    " \n",
    "    # Return the resultant string\n",
    "    return res\n",
    " \n",
    "# Driver Code\n",
    "arr = [4, 1, 2, 2, 2, 4, 8, 4]\n",
    "res = findOriginal(arr)\n",
    " \n",
    "# Print the result list\n",
    "for i in range(0, len(res)):\n",
    "    print(res[i], end=\" \")"
   ]
  },
  {
   "cell_type": "markdown",
   "id": "df176778",
   "metadata": {},
   "source": [
    "The time complexity of the findOriginalArray function is O(n), where n is the length of the input array changed. This is because we iterate through the changed array twice, and both iterations take linear time.\n",
    "\n",
    "The space complexity of the function is O(n) as well. This is because we use a dictionary count to store the counts of elements in the changed array. In the worst case, all the elements in changed could be distinct, resulting in a dictionary with n entries."
   ]
  },
  {
   "cell_type": "markdown",
   "id": "e12d1183",
   "metadata": {},
   "source": [
    "<aside>\n",
    "💡 **Question 7**\n",
    "\n",
    "Given a positive integer n, generate an n x n matrix filled with elements from 1 to n2 in spiral order.\n",
    "\n",
    "</aside>\n",
    "**Input:** n = 3\n",
    "\n",
    "**Output:** [[1,2,3],[8,9,4],[7,6,5]]"
   ]
  },
  {
   "cell_type": "code",
   "execution_count": 20,
   "id": "9f34afb0",
   "metadata": {},
   "outputs": [],
   "source": [
    "def generateMatrix(n):\n",
    "    result = [[0] * n for _ in range(n)]\n",
    "    row_start, row_end = 0, n - 1\n",
    "    col_start, col_end = 0, n - 1\n",
    "    num = 1\n",
    "\n",
    "    while row_start <= row_end and col_start <= col_end:\n",
    "        for i in range(col_start, col_end + 1):\n",
    "            result[row_start][i] = num\n",
    "            num += 1\n",
    "        row_start += 1\n",
    "\n",
    "        for i in range(row_start, row_end + 1):\n",
    "            result[i][col_end] = num\n",
    "            num += 1\n",
    "        col_end -= 1\n",
    "\n",
    "        if row_start <= row_end:\n",
    "            for i in range(col_end, col_start - 1, -1):\n",
    "                result[row_end][i] = num\n",
    "                num += 1\n",
    "            row_end -= 1\n",
    "\n",
    "        if col_start <= col_end:\n",
    "            for i in range(row_end, row_start - 1, -1):\n",
    "                result[i][col_start] = num\n",
    "                num += 1\n",
    "            col_start += 1\n",
    "\n",
    "    return result"
   ]
  },
  {
   "cell_type": "code",
   "execution_count": 21,
   "id": "6c0ce55f",
   "metadata": {},
   "outputs": [
    {
     "name": "stdout",
     "output_type": "stream",
     "text": [
      "[[1, 2, 3], [8, 9, 4], [7, 6, 5]]\n"
     ]
    }
   ],
   "source": [
    "n = 3\n",
    "print(generateMatrix(n))"
   ]
  },
  {
   "cell_type": "markdown",
   "id": "bc584435",
   "metadata": {},
   "source": [
    "The time complexity of the generateMatrix function is O(n^2), where n is the input size. This is because we iterate through each element in the n x n matrix once to fill it in the spiral order.\n",
    "\n",
    "The space complexity of the function is O(n^2) as well. This is because we create an n x n matrix to store the result, which requires n^2 space to hold all the elements."
   ]
  },
  {
   "cell_type": "markdown",
   "id": "b159b283",
   "metadata": {},
   "source": [
    "<aside>\n",
    "💡 **Question 8**\n",
    "\n",
    "Given two [sparse matrices](https://en.wikipedia.org/wiki/Sparse_matrix) mat1 of size m x k and mat2 of size k x n, return the result of mat1 x mat2. You may assume that multiplication is always possible.\n",
    "\n",
    "</aside>\n",
    "**Input:** mat1 = [[1,0,0],[-1,0,3]], mat2 = [[7,0,0],[0,0,0],[0,0,1]]\n",
    "\n",
    "**Output:**\n",
    "\n",
    "[[7,0,0],[-7,0,3]]"
   ]
  },
  {
   "cell_type": "code",
   "execution_count": 22,
   "id": "11411cfb",
   "metadata": {},
   "outputs": [],
   "source": [
    "def multiply(mat1, mat2):\n",
    "    m, k = len(mat1), len(mat1[0])\n",
    "    k, n = len(mat2), len(mat2[0])\n",
    "    result = [[0] * n for _ in range(m)]\n",
    "\n",
    "    for i in range(m):\n",
    "        for j in range(n):\n",
    "            sum = 0\n",
    "            for r in range(k):\n",
    "                sum += mat1[i][r] * mat2[r][j]\n",
    "            result[i][j] = sum\n",
    "\n",
    "    return result"
   ]
  },
  {
   "cell_type": "code",
   "execution_count": 23,
   "id": "1620f95b",
   "metadata": {},
   "outputs": [
    {
     "name": "stdout",
     "output_type": "stream",
     "text": [
      "[[7, 0, 0], [-7, 0, 3]]\n"
     ]
    }
   ],
   "source": [
    "mat1 = [[1, 0, 0], [-1, 0, 3]]\n",
    "mat2 = [[7, 0, 0], [0, 0, 0], [0, 0, 1]]\n",
    "print(multiply(mat1, mat2))"
   ]
  },
  {
   "cell_type": "markdown",
   "id": "e4734335",
   "metadata": {},
   "source": [
    "The time complexity of the multiply function depends on the dimensions of the input matrices. Let's assume m is the number of rows in mat1, k is the number of columns in mat1 (which is also the number of rows in mat2), and n is the number of columns in mat2.\n",
    "\n",
    "The nested loops in the function iterate m times for the outer loop and n times for the innermost loop. Within the innermost loop, there is an additional loop that iterates k times. Therefore, the overall time complexity of the function is O(m * n * k).\n",
    "\n",
    "The space complexity of the function is O(m * n) because we create a new matrix, result, with m rows and n columns to store the result of the matrix multiplication."
   ]
  },
  {
   "cell_type": "code",
   "execution_count": null,
   "id": "e72a6779",
   "metadata": {},
   "outputs": [],
   "source": []
  }
 ],
 "metadata": {
  "kernelspec": {
   "display_name": "Python 3 (ipykernel)",
   "language": "python",
   "name": "python3"
  },
  "language_info": {
   "codemirror_mode": {
    "name": "ipython",
    "version": 3
   },
   "file_extension": ".py",
   "mimetype": "text/x-python",
   "name": "python",
   "nbconvert_exporter": "python",
   "pygments_lexer": "ipython3",
   "version": "3.9.7"
  }
 },
 "nbformat": 4,
 "nbformat_minor": 5
}
