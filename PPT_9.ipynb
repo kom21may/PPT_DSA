{
 "cells": [
  {
   "cell_type": "markdown",
   "id": "7cc8fe5e",
   "metadata": {},
   "source": [
    "<aside>\n",
    "💡 **Question 1**\n",
    "\n",
    "Given an integer `n`, return *`true` if it is a power of two. Otherwise, return `false`*.\n",
    "\n",
    "An integer `n` is a power of two, if there exists an integer `x` such that `n == 2x`.\n",
    "\n",
    "**Example 1:**\n",
    "Input: n = 1 \n",
    "\n",
    "Output: true\n",
    "\n",
    "**Example 2:**\n",
    "Input: n = 16 \n",
    "\n",
    "Output: true\n",
    "\n",
    "**Example 3:**\n",
    "Input: n = 3 \n",
    "\n",
    "Output: false\n",
    "\n",
    "</aside>"
   ]
  },
  {
   "cell_type": "code",
   "execution_count": 1,
   "id": "a27e7499",
   "metadata": {},
   "outputs": [],
   "source": [
    "def isPowerOfTwo(n):\n",
    "    if n <= 0:\n",
    "        return False\n",
    "    return n & (n - 1) == 0"
   ]
  },
  {
   "cell_type": "code",
   "execution_count": 2,
   "id": "3116306c",
   "metadata": {},
   "outputs": [
    {
     "name": "stdout",
     "output_type": "stream",
     "text": [
      "True\n",
      "True\n",
      "False\n"
     ]
    }
   ],
   "source": [
    "print(isPowerOfTwo(1))\n",
    "print(isPowerOfTwo(16))\n",
    "\n",
    "print(isPowerOfTwo(3))"
   ]
  },
  {
   "cell_type": "markdown",
   "id": "ef36006b",
   "metadata": {},
   "source": [
    "The time complexity of the isPowerOfTwo function is O(1), which means it has constant time complexity. The function performs a few simple operations that do not depend on the size of the input n. The bitwise AND operation and the comparison take constant time regardless of the value of n.\n",
    "\n",
    "The space complexity of the function is O(1) as well. It does not use any additional data structures that grow with the input size. The function only requires a constant amount of space to store the intermediate values and return the result."
   ]
  },
  {
   "cell_type": "markdown",
   "id": "c2baf038",
   "metadata": {},
   "source": [
    "<aside>\n",
    "💡 **Question 2**\n",
    "\n",
    "Given a number n, find the sum of the first natural numbers.\n",
    "\n",
    "**Example 1:**\n",
    "\n",
    "Input: n = 3 \n",
    "\n",
    "Output: 6\n",
    "\n",
    "**Example 2:**\n",
    "\n",
    "Input  : 5 \n",
    "\n",
    "Output : 15\n",
    "\n",
    "</aside>"
   ]
  },
  {
   "cell_type": "code",
   "execution_count": 9,
   "id": "36f44e6b",
   "metadata": {},
   "outputs": [],
   "source": [
    "def natural(n):\n",
    "    if(n<=0):\n",
    "        return 0\n",
    "    else:\n",
    "        return n+nat(n-1)"
   ]
  },
  {
   "cell_type": "code",
   "execution_count": 10,
   "id": "623ed724",
   "metadata": {},
   "outputs": [
    {
     "data": {
      "text/plain": [
       "15"
      ]
     },
     "execution_count": 10,
     "metadata": {},
     "output_type": "execute_result"
    }
   ],
   "source": [
    "nat(5)"
   ]
  },
  {
   "cell_type": "markdown",
   "id": "6a2421d3",
   "metadata": {},
   "source": [
    "The time complexity of this approach is O(1) because the calculation involves a fixed number of operations, regardless of the input n. It does not depend on the magnitude of n, and the calculation can be performed in constant time.\n",
    "\n",
    "The space complexity is also O(1) because we only need a constant amount of space to store the intermediate values and return the final result."
   ]
  },
  {
   "cell_type": "markdown",
   "id": "0cf7cc32",
   "metadata": {},
   "source": [
    "<aside>\n",
    "💡 **Question 3**\n",
    "\n",
    "****Given a positive integer, N. Find the factorial of N. \n",
    "\n",
    "**Example 1:**\n",
    "\n",
    "Input: N = 5 \n",
    "\n",
    "Output: 120\n",
    "\n",
    "**Example 2:**\n",
    "\n",
    "Input: N = 4\n",
    "\n",
    "Output: 24\n",
    "\n",
    "</aside>"
   ]
  },
  {
   "cell_type": "code",
   "execution_count": 17,
   "id": "63955aaf",
   "metadata": {},
   "outputs": [],
   "source": [
    "def facto(n):\n",
    "    if n==0:\n",
    "        return 1\n",
    "    else:\n",
    "        return n*facto(n-1)"
   ]
  },
  {
   "cell_type": "code",
   "execution_count": 18,
   "id": "a38c3050",
   "metadata": {},
   "outputs": [
    {
     "data": {
      "text/plain": [
       "120"
      ]
     },
     "execution_count": 18,
     "metadata": {},
     "output_type": "execute_result"
    }
   ],
   "source": [
    "facto(5)"
   ]
  },
  {
   "cell_type": "markdown",
   "id": "a207dd38",
   "metadata": {},
   "source": [
    "The time complexity of the recursive factorial function is O(N) because in the worst case, the function makes N recursive calls before reaching the base case where N == 0. Each recursive call performs a constant amount of work, so the total time complexity is proportional to N.\n",
    "\n",
    "The space complexity of the recursive function is O(N) as well. In each recursive call, the function adds a new frame to the call stack, which consumes space. The maximum depth of the call stack is N, so the space complexity is proportional to N."
   ]
  },
  {
   "cell_type": "markdown",
   "id": "f0cc9c5d",
   "metadata": {},
   "source": [
    "<aside>\n",
    "💡 **Question 4**\n",
    "\n",
    "Given a number N and a power P, the task is to find the exponent of this number raised to the given power, i.e. N^P.\n",
    "\n",
    "**Example 1 :** \n",
    "\n",
    "Input: N = 5, P = 2\n",
    "\n",
    "Output: 25\n",
    "\n",
    "**Example 2 :**\n",
    "Input: N = 2, P = 5\n",
    "\n",
    "Output: 32\n",
    "\n",
    "</aside>"
   ]
  },
  {
   "cell_type": "code",
   "execution_count": 24,
   "id": "7c03415e",
   "metadata": {},
   "outputs": [],
   "source": [
    "def po(n,p):\n",
    "    res=1\n",
    "    if(p==0):\n",
    "        return 1\n",
    "    else:\n",
    "        return n*po(n,p-1)\n",
    "            "
   ]
  },
  {
   "cell_type": "code",
   "execution_count": 25,
   "id": "c736d9e9",
   "metadata": {},
   "outputs": [
    {
     "data": {
      "text/plain": [
       "25"
      ]
     },
     "execution_count": 25,
     "metadata": {},
     "output_type": "execute_result"
    }
   ],
   "source": [
    "po(5,2)"
   ]
  },
  {
   "cell_type": "code",
   "execution_count": 26,
   "id": "8ee6b1ea",
   "metadata": {},
   "outputs": [
    {
     "data": {
      "text/plain": [
       "32"
      ]
     },
     "execution_count": 26,
     "metadata": {},
     "output_type": "execute_result"
    }
   ],
   "source": [
    "po(2,5)"
   ]
  },
  {
   "cell_type": "markdown",
   "id": "29e851dc",
   "metadata": {},
   "source": [
    "The time complexity of both approaches is O(P) because we perform P multiplications to calculate the exponent. The space complexity is O(P) as well, as the maximum depth of the call stack in the recursive approach is P."
   ]
  },
  {
   "cell_type": "markdown",
   "id": "37d9a33d",
   "metadata": {},
   "source": [
    "<aside>\n",
    "💡 **Question 5**\n",
    "\n",
    "Given an array of integers **arr**, the task is to find maximum element of that array using recursion.\n",
    "\n",
    "**Example 1:**\n",
    "\n",
    "Input: arr = {1, 4, 3, -5, -4, 8, 6};\n",
    "Output: 8\n",
    "\n",
    "**Example 2:**\n",
    "\n",
    "Input: arr = {1, 4, 45, 6, 10, -8};\n",
    "Output: 45\n",
    "\n",
    "</aside>"
   ]
  },
  {
   "cell_type": "code",
   "execution_count": 44,
   "id": "15915661",
   "metadata": {},
   "outputs": [],
   "source": [
    "def find_maximum(arr, n):\n",
    "    arr=list(arr)\n",
    "    if n == 1:\n",
    "        return arr[0]\n",
    "    else:\n",
    "        max_element = find_maximum(arr, n - 1)\n",
    "        return max(max_element, arr[n - 1])"
   ]
  },
  {
   "cell_type": "code",
   "execution_count": 45,
   "id": "ac307294",
   "metadata": {},
   "outputs": [
    {
     "name": "stdout",
     "output_type": "stream",
     "text": [
      "8\n"
     ]
    }
   ],
   "source": [
    "arr1 = {1, 4, 3, -5, -4, 8, 6}\n",
    "print(find_maximum(arr1, len(arr1)))"
   ]
  },
  {
   "cell_type": "markdown",
   "id": "4d626492",
   "metadata": {},
   "source": [
    "The time complexity of the recursive function is O(N), where N is the length of the array. In the worst case, the function makes N recursive calls before reaching the base case. Each recursive call performs a constant amount of work, so the total time complexity is proportional to N.\n",
    "\n",
    "The space complexity of the recursive function is O(N) as well. In each recursive call, the function adds a new frame to the call stack, which consumes space. The maximum depth of the call stack is N, so the space complexity is proportional to N."
   ]
  },
  {
   "cell_type": "markdown",
   "id": "104fb149",
   "metadata": {},
   "source": [
    "<aside>\n",
    "💡 **Question 6**\n",
    "\n",
    "Given first term (a), common difference (d) and a integer N of the Arithmetic Progression series, the task is to find Nth term of the series.\n",
    "\n",
    "**Example 1:**\n",
    "\n",
    "Input : a = 2 d = 1 N = 5\n",
    "Output : 6\n",
    "The 5th term of the series is : 6\n",
    "\n",
    "**Example 2:**\n",
    "\n",
    "Input : a = 5 d = 2 N = 10\n",
    "Output : 23\n",
    "The 10th term of the series is : 23\n",
    "\n",
    "</aside>"
   ]
  },
  {
   "cell_type": "code",
   "execution_count": 46,
   "id": "adb6eac9",
   "metadata": {},
   "outputs": [],
   "source": [
    "def find_nth_term(a, d, N):\n",
    "    nth_term = a + (N - 1) * d\n",
    "    return nth_term"
   ]
  },
  {
   "cell_type": "code",
   "execution_count": 47,
   "id": "6c3483e2",
   "metadata": {},
   "outputs": [
    {
     "name": "stdout",
     "output_type": "stream",
     "text": [
      "6\n"
     ]
    }
   ],
   "source": [
    "print(find_nth_term(2, 1, 5))"
   ]
  },
  {
   "cell_type": "markdown",
   "id": "d9f70ba8",
   "metadata": {},
   "source": [
    "The time complexity of the function is O(1) because the calculation of the Nth term requires a constant number of operations.\n",
    "\n",
    "The space complexity is also O(1) as we only need a constant amount of space to store the intermediate calculations and return the final result."
   ]
  },
  {
   "cell_type": "markdown",
   "id": "7c083776",
   "metadata": {},
   "source": [
    "<aside>\n",
    "💡 **Question 7**\n",
    "\n",
    "Given a string S, the task is to write a program to print all permutations of a given string.\n",
    "\n",
    "**Example 1:**\n",
    "\n",
    "***Input:***\n",
    "\n",
    "*S = “ABC”*\n",
    "\n",
    "***Output:***\n",
    "\n",
    "*“ABC”, “ACB”, “BAC”, “BCA”, “CBA”, “CAB”*\n",
    "\n",
    "**Example 2:**\n",
    "\n",
    "***Input:***\n",
    "\n",
    "*S = “XY”*\n",
    "\n",
    "***Output:***\n",
    "\n",
    "*“XY”, “YX”*\n",
    "\n",
    "</aside>"
   ]
  },
  {
   "cell_type": "code",
   "execution_count": 48,
   "id": "bd3b13b9",
   "metadata": {},
   "outputs": [],
   "source": [
    "def generate_permutations(S, left, right):\n",
    "    if left == right:\n",
    "        print(\"\".join(S))\n",
    "    else:\n",
    "        for i in range(left, right + 1):\n",
    "            S[left], S[i] = S[i], S[left]  # Swap characters\n",
    "            generate_permutations(S, left + 1, right)  # Recursive call\n",
    "            S[left], S[i] = S[i], S[left]  # Revert the swap\n",
    "\n",
    "def print_all_permutations(string):\n",
    "    n = len(string)\n",
    "    S = list(string)\n",
    "    generate_permutations(S, 0, n - 1)"
   ]
  },
  {
   "cell_type": "code",
   "execution_count": 49,
   "id": "bb8b99d2",
   "metadata": {},
   "outputs": [
    {
     "name": "stdout",
     "output_type": "stream",
     "text": [
      "ABC\n",
      "ACB\n",
      "BAC\n",
      "BCA\n",
      "CBA\n",
      "CAB\n"
     ]
    }
   ],
   "source": [
    "print_all_permutations(\"ABC\")"
   ]
  },
  {
   "cell_type": "markdown",
   "id": "cc065b31",
   "metadata": {},
   "source": [
    "The time complexity of the function is O(N!), where N is the length of the string. This is because there are N! possible permutations of a string of length N.\n",
    "\n",
    "The space complexity is O(N) because we use an auxiliary list to store the characters of the string during the recursive calls. The maximum depth of the recursion is N, so the space required is proportional to N."
   ]
  },
  {
   "cell_type": "markdown",
   "id": "4efe8ab8",
   "metadata": {},
   "source": [
    "<aside>\n",
    "💡 **Question 8**\n",
    "\n",
    "Given an array, find a product of all array elements.\n",
    "\n",
    "**Example 1:**\n",
    "\n",
    "Input  : arr[] = {1, 2, 3, 4, 5}\n",
    "Output : 120\n",
    "**Example 2:**\n",
    "\n",
    "Input  : arr[] = {1, 6, 3}\n",
    "Output : 18\n",
    "\n",
    "</aside>"
   ]
  },
  {
   "cell_type": "code",
   "execution_count": 51,
   "id": "ed8f865b",
   "metadata": {},
   "outputs": [],
   "source": [
    "def find_product(arr):\n",
    "    product = 1\n",
    "    for num in arr:\n",
    "        product *= num\n",
    "    return product\n"
   ]
  },
  {
   "cell_type": "code",
   "execution_count": 52,
   "id": "c90dbe24",
   "metadata": {},
   "outputs": [
    {
     "name": "stdout",
     "output_type": "stream",
     "text": [
      "120\n"
     ]
    }
   ],
   "source": [
    "print(find_product([1, 2, 3, 4, 5]))"
   ]
  },
  {
   "cell_type": "markdown",
   "id": "507f87b9",
   "metadata": {},
   "source": [
    "The time complexity of the function is O(N) where N is the length of the array. This is because we need to iterate through each element once.\n",
    "\n",
    "The space complexity is O(1) as we only need a constant amount of space to store the running product and return the final result."
   ]
  },
  {
   "cell_type": "code",
   "execution_count": null,
   "id": "eeb492ae",
   "metadata": {},
   "outputs": [],
   "source": []
  }
 ],
 "metadata": {
  "kernelspec": {
   "display_name": "Python 3 (ipykernel)",
   "language": "python",
   "name": "python3"
  },
  "language_info": {
   "codemirror_mode": {
    "name": "ipython",
    "version": 3
   },
   "file_extension": ".py",
   "mimetype": "text/x-python",
   "name": "python",
   "nbconvert_exporter": "python",
   "pygments_lexer": "ipython3",
   "version": "3.9.7"
  }
 },
 "nbformat": 4,
 "nbformat_minor": 5
}
