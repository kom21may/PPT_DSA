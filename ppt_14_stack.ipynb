{
 "cells": [
  {
   "cell_type": "markdown",
   "id": "2b144a64",
   "metadata": {},
   "source": [
    "<aside>\n",
    "💡 **Question 1**\n",
    "\n",
    "Given an array **arr[ ]** of size **N** having elements, the task is to find the next greater element for each element of the array in order of their appearance in the array.Next greater element of an element in the array is the nearest element on the right which is greater than the current element.If there does not exist next greater of current element, then next greater element for current element is -1. For example, next greater of the last element is always -1.\n",
    "\n",
    "**Example 1:**\n",
    "\n",
    "</aside>"
   ]
  },
  {
   "cell_type": "markdown",
   "id": "de5156c7",
   "metadata": {},
   "source": [
    "Input:\n",
    "N = 4, arr[] = [1 3 2 4]\n",
    "Output:\n",
    "3 4 4 -1\n",
    "Explanation:\n",
    "In the array, the next larger element\n",
    "to 1 is 3 , 3 is 4 , 2 is 4 and for 4 ?\n",
    "since it doesn't exist, it is -1.\n"
   ]
  },
  {
   "cell_type": "code",
   "execution_count": 1,
   "id": "352af658",
   "metadata": {},
   "outputs": [
    {
     "name": "stdout",
     "output_type": "stream",
     "text": [
      "[3, 4, 4, -1]\n"
     ]
    }
   ],
   "source": [
    "def findNextGreaterElements(arr, N):\n",
    "    stack = []\n",
    "    result = [-1] * N\n",
    "\n",
    "    for i in range(N - 1, -1, -1):\n",
    "        while stack and stack[-1] <= arr[i]:\n",
    "            stack.pop()\n",
    "\n",
    "        if stack:\n",
    "            result[i] = stack[-1]\n",
    "\n",
    "        stack.append(arr[i])\n",
    "\n",
    "    return result\n",
    "\n",
    "# Example usage\n",
    "arr = [1, 3, 2, 4]\n",
    "N = len(arr)\n",
    "output = findNextGreaterElements(arr, N)\n",
    "print(output)"
   ]
  },
  {
   "cell_type": "markdown",
   "id": "d51cf5e2",
   "metadata": {},
   "source": [
    "Time Complexity: O(N), where N is the size of the array arr.\n",
    "Space Complexity: O(N), as the stack and result arrays store at most N elements."
   ]
  },
  {
   "cell_type": "markdown",
   "id": "48a7a427",
   "metadata": {},
   "source": [
    "<aside>\n",
    "💡 **Question 2**\n",
    "\n",
    "Given an array **a** of integers of length **n**, find the nearest smaller number for every element such that the smaller element is on left side.If no small element present on the left print -1.\n",
    "\n",
    "**Example 1:**\n",
    "\n",
    "</aside>\n",
    "Input: n = 3\n",
    "a = {1, 6, 2}\n",
    "Output: -1 1 1\n",
    "Explaination: There is no number at the\n",
    "left of 1. Smaller number than 6 and 2 is 1."
   ]
  },
  {
   "cell_type": "code",
   "execution_count": 3,
   "id": "2f1db957",
   "metadata": {},
   "outputs": [
    {
     "name": "stdout",
     "output_type": "stream",
     "text": [
      "[-1, 1, -1, 0, 3, 4]\n"
     ]
    }
   ],
   "source": [
    "def findNearestSmallerElements(arr, n):\n",
    "    stack = []\n",
    "    result = []\n",
    "    \n",
    "    for i in range(n):\n",
    "        while stack and stack[-1] >= arr[i]:\n",
    "            stack.pop()\n",
    "        \n",
    "        if stack:\n",
    "            result.append(stack[-1])\n",
    "        else:\n",
    "            result.append(-1)\n",
    "        \n",
    "        stack.append(arr[i])\n",
    "    \n",
    "    return result\n",
    "\n",
    "# Test case\n",
    "arr = [1, 5, 0, 3, 4, 5]\n",
    "n = len(arr)\n",
    "output = findNearestSmallerElements(arr, n)\n",
    "print(output)"
   ]
  },
  {
   "cell_type": "markdown",
   "id": "69951267",
   "metadata": {},
   "source": [
    "Time Complexity: O(N), where N is the size of the array arr.\n",
    "Space Complexity: O(N), as the stack and result arrays store at most N elements."
   ]
  },
  {
   "cell_type": "markdown",
   "id": "8af0c4ce",
   "metadata": {},
   "source": [
    "<aside>\n",
    "💡 **Question 3**\n",
    "\n",
    "Implement a Stack using two queues **q1** and **q2**.\n",
    "\n",
    "**Example 1:**\n",
    "\n",
    "</aside>\n",
    "Input:\n",
    "push(2)\n",
    "push(3)\n",
    "pop()\n",
    "push(4)\n",
    "pop()\n",
    "Output:3 4\n",
    "Explanation:\n",
    "push(2) the stack will be {2}\n",
    "push(3) the stack will be {2 3}\n",
    "pop()   poped element will be 3 the\n",
    "        stack will be {2}\n",
    "push(4) the stack will be {2 4}\n",
    "pop()   poped element will be 4\n"
   ]
  },
  {
   "cell_type": "code",
   "execution_count": 6,
   "id": "6e839a8f",
   "metadata": {},
   "outputs": [
    {
     "name": "stdout",
     "output_type": "stream",
     "text": [
      "5\n",
      "5\n"
     ]
    }
   ],
   "source": [
    "from queue import Queue\n",
    "\n",
    "class Stack:\n",
    "    def __init__(self):\n",
    "        self.q1 = Queue()\n",
    "        self.q2 = Queue()\n",
    "        self.size = 0\n",
    "\n",
    "    def push(self, x):\n",
    "        self.size += 1\n",
    "        self.q2.put(x)\n",
    "\n",
    "        while not self.q1.empty():\n",
    "            self.q2.put(self.q1.queue[0])\n",
    "            self.q1.get()\n",
    "\n",
    "        self.q = self.q1\n",
    "        self.q1 = self.q2\n",
    "        self.q2 = self.q\n",
    "\n",
    "    def pop(self):\n",
    "        if self.q1.empty():\n",
    "            return None\n",
    "\n",
    "        self.q1.get()\n",
    "        self.size -= 1\n",
    "\n",
    "    def top(self):\n",
    "        if self.q1.empty():\n",
    "            return None\n",
    "\n",
    "        return self.q1.queue[0]\n",
    "\n",
    "    def getMin(self):\n",
    "        if self.q1.empty():\n",
    "            return None\n",
    "\n",
    "        return self.q1.queue[0]\n",
    "\n",
    "# Test case\n",
    "stack = Stack()\n",
    "stack.push(5)\n",
    "stack.push(3)\n",
    "stack.pop()\n",
    "stack.push(4)\n",
    "stack.pop()\n",
    "print(stack.top())\n",
    "print(stack.getMin())"
   ]
  },
  {
   "cell_type": "markdown",
   "id": "d28dc91e",
   "metadata": {},
   "source": [
    "Time Complexity:\n",
    "\n",
    "push: O(N)\n",
    "pop: O(1)\n",
    "top: O(1)\n",
    "getMin: O(1)\n",
    "Space Complexity: O(N), where N is the number of elements in the stack."
   ]
  },
  {
   "cell_type": "markdown",
   "id": "f9a31fbe",
   "metadata": {},
   "source": [
    "<aside>\n",
    "💡 **Question 4**\n",
    "\n",
    "You are given a stack **St**. You have to reverse the stack using recursion.\n",
    "\n",
    "**Example 1:**\n",
    "\n",
    "```\n",
    "Input:St = {3,2,1,7,6}\n",
    "Output:{6,7,1,2,3}\n",
    "```\n",
    "\n",
    "**Example 2:**\n",
    "\n",
    "</aside>"
   ]
  },
  {
   "cell_type": "markdown",
   "id": "ff16b84d",
   "metadata": {},
   "source": [
    "Input:St = {4,3,9,6}\n",
    "Output:{6,9,3,4}"
   ]
  },
  {
   "cell_type": "code",
   "execution_count": 7,
   "id": "83b26200",
   "metadata": {},
   "outputs": [
    {
     "name": "stdout",
     "output_type": "stream",
     "text": [
      "[6, 7, 1, 2, 3]\n"
     ]
    }
   ],
   "source": [
    "def insertAtBottom(stack, item):\n",
    "    if len(stack) == 0:\n",
    "        stack.append(item)\n",
    "    else:\n",
    "        temp = stack.pop()\n",
    "        insertAtBottom(stack, item)\n",
    "        stack.append(temp)\n",
    "\n",
    "def reverseStack(stack):\n",
    "    if len(stack) > 0:\n",
    "        temp = stack.pop()\n",
    "        reverseStack(stack)\n",
    "        insertAtBottom(stack, temp)\n",
    "\n",
    "# Test case\n",
    "stack = [3, 2, 1, 7, 6]\n",
    "reverseStack(stack)\n",
    "print(stack)"
   ]
  },
  {
   "cell_type": "markdown",
   "id": "66020ff6",
   "metadata": {},
   "source": [
    "Time Complexity: O(N^2), where N is the number of elements in the stack.\n",
    "Space Complexity: O(N), where N is the number of elements in the stack"
   ]
  },
  {
   "cell_type": "markdown",
   "id": "7cd51b23",
   "metadata": {},
   "source": [
    "<aside>\n",
    "💡 **Question 5**\n",
    "\n",
    "You are given a string **S**, the task is to reverse the string using stack.\n",
    "\n",
    "**Example 1:**\n",
    "\n",
    "</aside>\n",
    "```\n",
    "Input: S=\"GeeksforGeeks\"\n",
    "Output: skeeGrofskeeG\n",
    "```"
   ]
  },
  {
   "cell_type": "code",
   "execution_count": 8,
   "id": "43af3443",
   "metadata": {},
   "outputs": [
    {
     "name": "stdout",
     "output_type": "stream",
     "text": [
      "skeeGrofskeeG\n"
     ]
    }
   ],
   "source": [
    "def reverseString(s):\n",
    "    stack = []\n",
    "    for char in s:\n",
    "        stack.append(char)\n",
    "    \n",
    "    reversed_str = ''\n",
    "    while stack:\n",
    "        reversed_str += stack.pop()\n",
    "    \n",
    "    return reversed_str\n",
    "\n",
    "# Test case\n",
    "s = \"GeeksforGeeks\"\n",
    "output = reverseString(s)\n",
    "print(output)"
   ]
  },
  {
   "cell_type": "markdown",
   "id": "62199c2c",
   "metadata": {},
   "source": [
    "Time Complexity: O(N), where N is the length of the input string.\n",
    "Space Complexity: O(N), as the stack stores at most N characters."
   ]
  },
  {
   "cell_type": "markdown",
   "id": "289cd2a3",
   "metadata": {},
   "source": [
    "<aside>\n",
    "💡 **Question 6**\n",
    "\n",
    "Given string **S** representing a postfix expression, the task is to evaluate the expression and find the final value. Operators will only include the basic arithmetic operators like ***, /, + and -**.\n",
    "\n",
    "**Example 1:**\n",
    "\n",
    "</aside>\n",
    "Input: S = \"231*+9-\"\n",
    "Output: -4\n",
    "Explanation:\n",
    "After solving the given expression,\n",
    "we have -4 as result."
   ]
  },
  {
   "cell_type": "code",
   "execution_count": 9,
   "id": "5efb07b0",
   "metadata": {},
   "outputs": [
    {
     "name": "stdout",
     "output_type": "stream",
     "text": [
      "-4\n"
     ]
    }
   ],
   "source": [
    "def evaluatePostfixExpression(S):\n",
    "    stack = []\n",
    "    for char in S:\n",
    "        if char.isdigit():\n",
    "            stack.append(int(char))\n",
    "        else:\n",
    "            operand2 = stack.pop()\n",
    "            operand1 = stack.pop()\n",
    "            result = performOperation(operand1, operand2, char)\n",
    "            stack.append(result)\n",
    "    \n",
    "    return stack.pop()\n",
    "\n",
    "def performOperation(operand1, operand2, operator):\n",
    "    if operator == '+':\n",
    "        return operand1 + operand2\n",
    "    elif operator == '-':\n",
    "        return operand1 - operand2\n",
    "    elif operator == '*':\n",
    "        return operand1 * operand2\n",
    "    elif operator == '/':\n",
    "        return operand1 / operand2\n",
    "\n",
    "# Test case\n",
    "S = \"231*+9-\"\n",
    "output = evaluatePostfixExpression(S)\n",
    "print(output)"
   ]
  },
  {
   "cell_type": "markdown",
   "id": "d84fff27",
   "metadata": {},
   "source": [
    "Time Complexity: O(N), where N is the length of the input string.\n",
    "Space Complexity: O(N), as the stack stores at most N elements.\n"
   ]
  },
  {
   "cell_type": "markdown",
   "id": "7e364926",
   "metadata": {},
   "source": [
    "<aside>\n",
    "💡 **Question 7**\n",
    "\n",
    "Design a stack that supports push, pop, top, and retrieving the minimum element in constant time.\n",
    "\n",
    "Implement the `MinStack` class:\n",
    "\n",
    "- `MinStack()` initializes the stack object.\n",
    "- `void push(int val)` pushes the element `val` onto the stack.\n",
    "- `void pop()` removes the element on the top of the stack.\n",
    "- `int top()` gets the top element of the stack.\n",
    "- `int getMin()` retrieves the minimum element in the stack.\n",
    "\n",
    "You must implement a solution with `O(1)` time complexity for each function.\n",
    "\n",
    "**Example 1:**\n",
    "\n",
    "</aside>"
   ]
  },
  {
   "cell_type": "code",
   "execution_count": 10,
   "id": "2b58dbd2",
   "metadata": {},
   "outputs": [
    {
     "name": "stdout",
     "output_type": "stream",
     "text": [
      "-3\n",
      "0\n",
      "-2\n"
     ]
    }
   ],
   "source": [
    "class MinStack:\n",
    "\n",
    "    def __init__(self):\n",
    "        self.stack = []\n",
    "        self.min_stack = []\n",
    "\n",
    "    def push(self, val):\n",
    "        self.stack.append(val)\n",
    "        if not self.min_stack or val <= self.min_stack[-1]:\n",
    "            self.min_stack.append(val)\n",
    "\n",
    "    def pop(self):\n",
    "        if self.stack.pop() == self.min_stack[-1]:\n",
    "            self.min_stack.pop()\n",
    "\n",
    "    def top(self):\n",
    "        return self.stack[-1]\n",
    "\n",
    "    def getMin(self):\n",
    "        return self.min_stack[-1]\n",
    "\n",
    "# Test case\n",
    "minStack = MinStack()\n",
    "minStack.push(-2)\n",
    "minStack.push(0)\n",
    "minStack.push(-3)\n",
    "print(minStack.getMin())\n",
    "minStack.pop()\n",
    "print(minStack.top())\n",
    "print(minStack.getMin())"
   ]
  },
  {
   "cell_type": "markdown",
   "id": "1eb2d481",
   "metadata": {},
   "source": [
    "Time Complexity:\n",
    "\n",
    "push: O(1)\n",
    "pop: O(1)\n",
    "top: O(1)\n",
    "getMin: O(1)"
   ]
  },
  {
   "cell_type": "markdown",
   "id": "5f864667",
   "metadata": {},
   "source": [
    "<aside>\n",
    "💡 **Question 8**\n",
    "\n",
    "Given `n` non-negative integers representing an elevation map where the width of each bar is `1`, compute how much water it can trap after raining.\n",
    "\n",
    "**Example 1:**\n",
    "\n",
    "</aside>\n",
    "<aside>\n",
    "💡 **Question 8**\n",
    "\n",
    "Given `n` non-negative integers representing an elevation map where the width of each bar is `1`, compute how much water it can trap after raining.\n",
    "\n",
    "**Example 1:**\n",
    "\n",
    "!https://assets.leetcode.com/uploads/2018/10/22/rainwatertrap.png\n",
    "\n",
    "```\n",
    "Input: height = [0,1,0,2,1,0,1,3,2,1,2,1]\n",
    "Output: 6\n",
    "Explanation: The above elevation map (black section) is represented by array [0,1,0,2,1,0,1,3,2,1,2,1]. In this case, 6 units of rain water (blue section) are being trapped.\n",
    "\n",
    "```\n",
    "\n",
    "**Example 2:**\n",
    "\n",
    "</aside>"
   ]
  },
  {
   "cell_type": "code",
   "execution_count": 12,
   "id": "c385b410",
   "metadata": {},
   "outputs": [
    {
     "name": "stdout",
     "output_type": "stream",
     "text": [
      "6\n"
     ]
    }
   ],
   "source": [
    "def trap(height):\n",
    "    if not height:\n",
    "        return 0\n",
    "\n",
    "    n = len(height)\n",
    "    left_max = [0] * n\n",
    "    right_max = [0] * n\n",
    "    left_max[0] = height[0]\n",
    "    right_max[n - 1] = height[n - 1]\n",
    "\n",
    "    for i in range(1, n):\n",
    "        left_max[i] = max(left_max[i - 1], height[i])\n",
    "\n",
    "    for i in range(n - 2, -1, -1):\n",
    "        right_max[i] = max(right_max[i + 1], height[i])\n",
    "\n",
    "    water = 0\n",
    "    for i in range(n):\n",
    "        water += min(left_max[i], right_max[i]) - height[i]\n",
    "\n",
    "    return water\n",
    "\n",
    "# Test case\n",
    "height = [0, 1, 0, 2, 1, 0, 1, 3, 2, 1, 2, 1]\n",
    "output = trap(height)\n",
    "print(output)"
   ]
  },
  {
   "cell_type": "markdown",
   "id": "549fbb81",
   "metadata": {},
   "source": [
    "Time Complexity: O(N), where N is the number of elements in the height array.\n",
    "Space Complexity: O(N), as the left_max and right_max arrays store at most N elements."
   ]
  },
  {
   "cell_type": "code",
   "execution_count": null,
   "id": "96e947a4",
   "metadata": {},
   "outputs": [],
   "source": []
  }
 ],
 "metadata": {
  "kernelspec": {
   "display_name": "Python 3 (ipykernel)",
   "language": "python",
   "name": "python3"
  },
  "language_info": {
   "codemirror_mode": {
    "name": "ipython",
    "version": 3
   },
   "file_extension": ".py",
   "mimetype": "text/x-python",
   "name": "python",
   "nbconvert_exporter": "python",
   "pygments_lexer": "ipython3",
   "version": "3.9.7"
  }
 },
 "nbformat": 4,
 "nbformat_minor": 5
}
