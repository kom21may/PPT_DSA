{
 "cells": [
  {
   "cell_type": "markdown",
   "id": "16758504",
   "metadata": {},
   "source": [
    "Given a non-negative integer x, return the square root of x rounded down to the nearest integer. The returned integer should be non-negative as well. You must not use any built-in exponent function or operator. \n",
    "\n",
    " Example 1:\n",
    "Input: x = 4 Output: 2 Explanation: The square root of 4 is 2, so we return 2.\n",
    "Example 2:\n",
    "\n",
    "Input: x = 8 Output: 2 Explanation: The square root of 8 is 2.82842..., and since we round it down to the nearest integer, 2 is returned.\n",
    "Constraints:\n",
    "\n",
    "0 <= x <= 2^31 - 1\n"
   ]
  },
  {
   "cell_type": "code",
   "execution_count": 13,
   "id": "e465d307",
   "metadata": {},
   "outputs": [],
   "source": [
    "def sq(x):\n",
    "    left=1\n",
    "    right=x\n",
    "    while(left<=right):\n",
    "        mid=(left+right)//2\n",
    "        if mid*mid==x:\n",
    "            return mid\n",
    "        elif(mid*mid<x):\n",
    "            left=mid+1\n",
    "        else:\n",
    "            right=mid-1\n",
    "    return right\n",
    "        "
   ]
  },
  {
   "cell_type": "code",
   "execution_count": 14,
   "id": "87b55425",
   "metadata": {},
   "outputs": [
    {
     "data": {
      "text/plain": [
       "2"
      ]
     },
     "execution_count": 14,
     "metadata": {},
     "output_type": "execute_result"
    }
   ],
   "source": [
    "sq(4)"
   ]
  },
  {
   "cell_type": "code",
   "execution_count": 15,
   "id": "0210af9f",
   "metadata": {},
   "outputs": [
    {
     "data": {
      "text/plain": [
       "2"
      ]
     },
     "execution_count": 15,
     "metadata": {},
     "output_type": "execute_result"
    }
   ],
   "source": [
    "sq(8)"
   ]
  },
  {
   "cell_type": "markdown",
   "id": "3248cc31",
   "metadata": {},
   "source": [
    "The time complexity of the provided square root algorithm is O(log(x)), where x is the input number. This complexity arises from the binary search approach used to find the square root. In each iteration of the while loop, the search range is halved, resulting in a logarithmic number of iterations until the left boundary exceeds the right boundary.\n",
    "\n",
    "The space complexity of the algorithm is O(1), as it uses a constant amount of additional space for the variables left, right, mid, and the return value. The space required does not scale with the input size."
   ]
  },
  {
   "cell_type": "markdown",
   "id": "72a61830",
   "metadata": {},
   "source": [
    "Q2 You are given two non-empty linked lists representing two non-negative integers. The digits are stored in reverse order, and each of their nodes contains a single digit. Add the two numbers and return the sum as a linked list.\n",
    "\n",
    "You may assume the two numbers do not contain any leading zero, except the number 0 itself.\n",
    "\n",
    "\n",
    "Example 1:\n",
    "\n",
    "Input: l1 = [2,4,3], l2 = [5,6,4] Output: [7,0,8] Explanation: 342 + 465 = 807.\n",
    "\n",
    "Example 2:\n",
    "\n",
    "Input: l1 = [0], l2 = [0] Output: [0]\n",
    "\n",
    "Example 3:\n",
    "\n",
    "Input: l1 = [9,9,9,9,9,9,9], l2 = [9,9,9,9] Output: [8,9,9,9,0,0,0,1]\n",
    "\n",
    " \n",
    "\n",
    "Constraints:\n",
    "\n",
    "The number of nodes in each linked list is in the range [1, 100].\n",
    "0 <= Node.val <= 9 It is guaranteed that the list represents a number that does not have leading zeros.\n",
    "\n"
   ]
  },
  {
   "cell_type": "code",
   "execution_count": 22,
   "id": "547ca6e2",
   "metadata": {},
   "outputs": [
    {
     "name": "stdout",
     "output_type": "stream",
     "text": [
      "8 0 7 \n"
     ]
    }
   ],
   "source": [
    "class ListNode:\n",
    "    def __init__(self, val=0, next=None):\n",
    "        self.val = val\n",
    "        self.next = next\n",
    "\n",
    "def addTwoNumbers(l1, l2):\n",
    "    dummy = ListNode(0)\n",
    "    curr = dummy\n",
    "    carry = 0\n",
    "\n",
    "    while l1 or l2 or carry:\n",
    "        x = l1.val if l1 else 0\n",
    "        y = l2.val if l2 else 0\n",
    "\n",
    "        total = x + y + carry\n",
    "        carry = total // 10\n",
    "        digit = total % 10\n",
    "\n",
    "        curr.next = ListNode(digit)\n",
    "        curr = curr.next\n",
    "\n",
    "        if l1:\n",
    "            l1 = l1.next\n",
    "        if l2:\n",
    "            l2 = l2.next\n",
    "\n",
    "    result = reverseList(dummy.next)\n",
    "    printLinkedList(result)\n",
    "\n",
    "def reverseList(head):\n",
    "    prev = None\n",
    "    curr = head\n",
    "\n",
    "    while curr:\n",
    "        next_node = curr.next\n",
    "        curr.next = prev\n",
    "        prev = curr\n",
    "        curr = next_node\n",
    "\n",
    "    return prev\n",
    "\n",
    "def printLinkedList(head):\n",
    "    curr = head\n",
    "    while curr:\n",
    "        print(curr.val, end=\" \")\n",
    "        curr = curr.next\n",
    "    print()\n",
    "\n",
    "# Example usage:\n",
    "l1 = ListNode(2)\n",
    "l1.next = ListNode(4)\n",
    "l1.next.next = ListNode(3)\n",
    "\n",
    "l2 = ListNode(5)\n",
    "l2.next = ListNode(6)\n",
    "l2.next.next = ListNode(4)\n",
    "\n",
    "addTwoNumbers(l1, l2)"
   ]
  },
  {
   "cell_type": "markdown",
   "id": "10741b3c",
   "metadata": {},
   "source": [
    "The time and space complexity is O(max(N, M)), where N and M are the lengths of the input lists l1 and l2, respectively."
   ]
  },
  {
   "cell_type": "code",
   "execution_count": null,
   "id": "684d9118",
   "metadata": {},
   "outputs": [],
   "source": []
  }
 ],
 "metadata": {
  "kernelspec": {
   "display_name": "Python 3 (ipykernel)",
   "language": "python",
   "name": "python3"
  },
  "language_info": {
   "codemirror_mode": {
    "name": "ipython",
    "version": 3
   },
   "file_extension": ".py",
   "mimetype": "text/x-python",
   "name": "python",
   "nbconvert_exporter": "python",
   "pygments_lexer": "ipython3",
   "version": "3.10.9"
  }
 },
 "nbformat": 4,
 "nbformat_minor": 5
}
