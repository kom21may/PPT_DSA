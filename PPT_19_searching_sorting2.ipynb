{
 "cells": [
  {
   "cell_type": "markdown",
   "id": "b0e75c97",
   "metadata": {},
   "source": [
    "<aside>\n",
    "💡 1. **Merge k Sorted Lists**\n",
    "\n",
    "You are given an array of `k` linked-lists `lists`, each linked-list is sorted in ascending order.\n",
    "\n",
    "*Merge all the linked-lists into one sorted linked-list and return it.*\n",
    "\n",
    "**Example 1:**\n",
    "\n",
    "</aside>"
   ]
  },
  {
   "cell_type": "code",
   "execution_count": 6,
   "id": "5eeba523",
   "metadata": {},
   "outputs": [],
   "source": [
    "import heapq\n",
    "class ListNode:\n",
    "    def __init__(self, val=0, next=None):\n",
    "        self.val = val\n",
    "        self.next = next\n",
    "\n",
    "def mergeKLists(lists):\n",
    "    heap = []\n",
    "    \n",
    "    # Push the head of each linked list into the heap\n",
    "    for head in lists:\n",
    "        if head:\n",
    "            heapq.heappush(heap, (heap.val, head))\n",
    "    \n",
    "    dummy = ListNode(0)\n",
    "    curr = dummy\n",
    "    \n",
    "    # Process the nodes in the heap until it becomes empty\n",
    "    while heap:\n",
    "        _, node = heapq.heappop(heap)\n",
    "        curr.next = node\n",
    "        curr = curr.next\n",
    "        \n",
    "        # Push the next node of the current list into the heap\n",
    "        if node.next:\n",
    "            heapq.heappush(heap, (node.next.val, node.next))\n",
    "    \n",
    "    return dummy.next\n"
   ]
  },
  {
   "cell_type": "markdown",
   "id": "400f0a8c",
   "metadata": {},
   "source": [
    "Time Complexity: The algorithm maintains a min-heap of size k, where k is the number of linked lists. Each node is pushed and popped from the heap once, resulting in a time complexity of O(n log k), where n is the total number of nodes in all the linked lists.\n",
    "\n",
    "Space Complexity: The algorithm uses a heap to store the nodes, so the space complexity is O(k), where k is the number of linked lists.\n"
   ]
  },
  {
   "cell_type": "markdown",
   "id": "1ca82883",
   "metadata": {},
   "source": [
    "<aside>\n",
    "💡 2. **Count of Smaller Numbers After Self**\n",
    "\n",
    "Given an integer array `nums`, return *an integer array* `counts` *where* `counts[i]` *is the number of smaller elements to the right of* `nums[i]`.\n",
    "\n",
    "**Example 1:**\n",
    "    \n",
    "    Input: nums = [5,2,6,1]\n",
    "Output: [2,1,1,0]\n",
    "Explanation:\n",
    "To the right of 5 there are2 smaller elements (2 and 1).\n",
    "To the right of 2 there is only1 smaller element (1).\n",
    "To the right of 6 there is1 smaller element (1).\n",
    "To the right of 1 there is0 smaller element.\n",
    "\n",
    "</aside>"
   ]
  },
  {
   "cell_type": "code",
   "execution_count": 8,
   "id": "2941f9e0",
   "metadata": {},
   "outputs": [],
   "source": [
    "class TreeNode:\n",
    "    def __init__(self, val=0):\n",
    "        self.val = val\n",
    "        self.count = 1\n",
    "        self.left = None\n",
    "        self.right = None\n",
    "\n",
    "def insert(root, val):\n",
    "    if not root:\n",
    "        return TreeNode(val)\n",
    "    \n",
    "    if val < root.val:\n",
    "        root.left = insert(root.left, val)\n",
    "    elif val > root.val:\n",
    "        root.right = insert(root.right, val)\n",
    "    else:\n",
    "        root.count += 1\n",
    "    \n",
    "    return root\n",
    "\n",
    "def countSmaller(nums):\n",
    "    counts = [0] * len(nums)\n",
    "    root = None\n",
    "    \n",
    "    for i in range(len(nums) - 1, -1, -1):\n",
    "        root = insert(root, nums[i])\n",
    "        counts[i] = query(root, nums[i] - 1)\n",
    "    \n",
    "    return counts\n",
    "\n",
    "def query(root, val):\n",
    "    if not root:\n",
    "        return 0\n",
    "    \n",
    "    if val == root.val:\n",
    "        return root.count\n",
    "    elif val < root.val:\n",
    "        return query(root.left, val)\n",
    "    else:\n",
    "        return root.count + query(root.right, val) + query(root.left, val)"
   ]
  },
  {
   "cell_type": "markdown",
   "id": "78c605c6",
   "metadata": {},
   "source": [
    "Time Complexity: The algorithm uses a binary search tree to count the number of smaller elements after each element. The insertion and query operations in the binary search tree take O(log n) time on average, resulting in a total time complexity of O(n log n), where n is the length of the input array.\n",
    "\n",
    "Space Complexity: The space complexity is O(n) because the algorithm uses an additional array to store the counts of smaller numbers."
   ]
  },
  {
   "cell_type": "markdown",
   "id": "621f574d",
   "metadata": {},
   "source": [
    "<aside>\n",
    "💡 3. **Sort an Array**\n",
    "\n",
    "Given an array of integers `nums`, sort the array in ascending order and return it.\n",
    "\n",
    "You must solve the problem **without using any built-in** functions in `O(nlog(n))` time complexity and with the smallest space complexity possible.\n",
    "\n",
    "**Example 1:**\n",
    "\n",
    "```\n",
    "Input: nums = [5,2,3,1]\n",
    "Output: [1,2,3,5]\n",
    "Explanation: After sorting the array, the positions of some numbers are not changed (for example, 2 and 3), while the positions of other numbers are changed (for example, 1 and 5).\n",
    "\n",
    "```\n",
    "\n",
    "**Example 2:**\n",
    "\n",
    "</aside>"
   ]
  },
  {
   "cell_type": "code",
   "execution_count": 9,
   "id": "02188f1c",
   "metadata": {},
   "outputs": [],
   "source": [
    "def sortArray(nums):\n",
    "    # Merge sort implementation\n",
    "    if len(nums) <= 1:\n",
    "        return nums\n",
    "    \n",
    "    mid = len(nums) // 2\n",
    "    left = nums[:mid]\n",
    "    right = nums[mid:]\n",
    "    \n",
    "    left = sortArray(left)\n",
    "    right = sortArray(right)\n",
    "    \n",
    "    return merge(left, right)\n",
    "\n",
    "def merge(left, right):\n",
    "    merged = []\n",
    "    i = j = 0\n",
    "    \n",
    "    while i < len(left) and j < len(right):\n",
    "        if left[i] <= right[j]:\n",
    "            merged.append(left[i])\n",
    "            i += 1\n",
    "        else:\n",
    "            merged.append(right[j])\n",
    "            j += 1\n",
    "    \n",
    "    # Append the remaining elements from left and right, if any\n",
    "    merged.extend(left[i:])\n",
    "    merged.extend(right[j:])\n",
    "    \n",
    "    return merged"
   ]
  },
  {
   "cell_type": "code",
   "execution_count": 10,
   "id": "bc53df1c",
   "metadata": {},
   "outputs": [
    {
     "data": {
      "text/plain": [
       "[1, 2, 3, 4, 5, 7]"
      ]
     },
     "execution_count": 10,
     "metadata": {},
     "output_type": "execute_result"
    }
   ],
   "source": [
    "sortArray([5,2,3,4,7,1])"
   ]
  },
  {
   "cell_type": "markdown",
   "id": "2ad4fe4b",
   "metadata": {},
   "source": [
    "Time Complexity: The merge sort algorithm has a time complexity of O(nlog(n)), where n is the length of the input array. It achieves this complexity by recursively dividing the array into halves and merging them in a sorted manner.\n",
    "\n",
    "Space Complexity: The merge sort algorithm uses additional space to store the merged array during the merging process. The space complexity is O(n), where n is the length of the input array. However, it doesn't use any extra space proportional to the input size, making it an efficient algorithm in terms of space complexity."
   ]
  },
  {
   "cell_type": "markdown",
   "id": "8af961f3",
   "metadata": {},
   "source": [
    "<aside>\n",
    "💡 4. **Move all zeroes to end of array**\n",
    "\n",
    "Given an array of random numbers, Push all the zero’s of a given array to the end of the array. For example, if the given arrays is {1, 9, 8, 4, 0, 0, 2, 7, 0, 6, 0}, it should be changed to {1, 9, 8, 4, 2, 7, 6, 0, 0, 0, 0}. The order of all other elements should be same. Expected time complexity is O(n) and extra space is O(1).\n",
    "\n",
    "**Example:**\n",
    "\n",
    "</aside>"
   ]
  },
  {
   "cell_type": "code",
   "execution_count": 11,
   "id": "0f7064b1",
   "metadata": {},
   "outputs": [],
   "source": [
    "def moveZeroes(nums):\n",
    "    n = len(nums)\n",
    "    nonZeroIndex = 0\n",
    "    \n",
    "    # Move all non-zero elements to the beginning of the array\n",
    "    for i in range(n):\n",
    "        if nums[i] != 0:\n",
    "            nums[nonZeroIndex] = nums[i]\n",
    "            nonZeroIndex += 1\n",
    "    \n",
    "    # Fill the remaining positions with zeroes\n",
    "    while nonZeroIndex < n:\n",
    "        nums[nonZeroIndex] = 0\n",
    "        nonZeroIndex += 1\n",
    "    \n",
    "    return nums"
   ]
  },
  {
   "cell_type": "code",
   "execution_count": 12,
   "id": "7b720f0c",
   "metadata": {},
   "outputs": [
    {
     "data": {
      "text/plain": [
       "[1, 9, 2, 3, 4, 0, 0, 0]"
      ]
     },
     "execution_count": 12,
     "metadata": {},
     "output_type": "execute_result"
    }
   ],
   "source": [
    "moveZeroes([1,9,2,0,3,0,4,0])"
   ]
  },
  {
   "cell_type": "markdown",
   "id": "b592112e",
   "metadata": {},
   "source": [
    "Time Complexity: The algorithm scans the array once, so the time complexity is O(n), where n is the length of the input array.\n",
    "\n",
    "Space Complexity: The algorithm uses constant extra space, so the space complexity is O(1)."
   ]
  },
  {
   "cell_type": "markdown",
   "id": "e4dfdba7",
   "metadata": {},
   "source": [
    "<aside>\n",
    "💡 5. **Rearrange array in alternating positive & negative items with O(1) extra space**\n",
    "\n",
    "Given an **array of positive** and **negative numbers**, arrange them in an **alternate** fashion such that every positive number is followed by a negative and vice-versa maintaining the **order of appearance**. The number of positive and negative numbers need not be equal. If there are more positive numbers they appear at the end of the array. If there are more negative numbers, they too appear at the end of the array.\n",
    "\n",
    "**Examples:**\n",
    "\n",
    "> Input:  arr[] = {1, 2, 3, -4, -1, 4}\n",
    "Output: arr[] = {-4, 1, -1, 2, 3, 4}\n",
    "\n",
    "Input:  arr[] = {-5, -2, 5, 2, 4, 7, 1, 8, 0, -8}\n",
    "Output: arr[] = {-5, 5, -2, 2, -8, 4, 7, 1, 8, 0}\n",
    "> \n",
    "</aside>"
   ]
  },
  {
   "cell_type": "code",
   "execution_count": 13,
   "id": "c4006bc1",
   "metadata": {},
   "outputs": [],
   "source": [
    "def rearrangeArray(nums):\n",
    "    n = len(nums)\n",
    "    i = -1\n",
    "\n",
    "    # Move all negative elements to the beginning of the array\n",
    "    for j in range(n):\n",
    "        if nums[j] < 0:\n",
    "            i += 1\n",
    "            nums[i], nums[j] = nums[j], nums[i]\n",
    "\n",
    "    # Rearrange the array in alternating positive and negative items\n",
    "    pos, neg = i + 1, 0\n",
    "\n",
    "    while pos < n and neg < pos and nums[neg] < 0:\n",
    "        nums[pos], nums[neg] = nums[neg], nums[pos]\n",
    "        pos += 1\n",
    "        neg += 2\n",
    "\n",
    "    return nums"
   ]
  },
  {
   "cell_type": "markdown",
   "id": "00bda249",
   "metadata": {},
   "source": [
    "Time Complexity: The algorithm scans the array once, so the time complexity is O(n), where n is the length of the input array.\n",
    "\n",
    "Space Complexity: The algorithm uses constant extra space, so the space complexity is O(1)."
   ]
  },
  {
   "cell_type": "markdown",
   "id": "fcd6ad77",
   "metadata": {},
   "source": [
    "<aside>\n",
    "💡 **6. Merge two sorted arrays**\n",
    "\n",
    "Given two sorted arrays, the task is to merge them in a sorted manner.\n",
    "\n",
    "**Examples:**\n",
    "\n",
    "> Input: arr1[] = { 1, 3, 4, 5}, arr2[] = {2, 4, 6, 8} \n",
    "Output: arr3[] = {1, 2, 3, 4, 4, 5, 6, 8}\n",
    "\n",
    "Input: arr1[] = { 5, 8, 9}, arr2[] = {4, 7, 8}\n",
    "Output: arr3[] = {4, 5, 7, 8, 8, 9}\n",
    "> \n",
    "</aside>"
   ]
  },
  {
   "cell_type": "code",
   "execution_count": 16,
   "id": "a324ebd0",
   "metadata": {},
   "outputs": [],
   "source": [
    "def mergeArrays(arr1, arr2):\n",
    "    n1 = len(arr1)\n",
    "    n2 = len(arr2)\n",
    "    merged = []\n",
    "    i = 0\n",
    "    j = 0\n",
    "    \n",
    "    # Merge the two arrays by comparing elements\n",
    "    while i < n1 and j < n2:\n",
    "        if arr1[i] <= arr2[j]:\n",
    "            merged.append(arr1[i])\n",
    "            i += 1\n",
    "        else:\n",
    "            merged.append(arr2[j])\n",
    "            j += 1\n",
    "    \n",
    "    # Append the remaining elements from arr1, if any\n",
    "    while i < n1:\n",
    "        merged.append(arr1[i])\n",
    "        i += 1\n",
    "    \n",
    "    # Append the remaining elements from arr2, if any\n",
    "    while j < n2:\n",
    "        merged.append(arr2[j])\n",
    "        j += 1\n",
    "    \n",
    "    return merged"
   ]
  },
  {
   "cell_type": "code",
   "execution_count": null,
   "id": "bb825d18",
   "metadata": {},
   "outputs": [],
   "source": [
    "mergeArrays([1,3,4,5],[2,4,6,8],[1,23])"
   ]
  },
  {
   "cell_type": "markdown",
   "id": "ea8e01fe",
   "metadata": {},
   "source": [
    "Time Complexity: The merge sort algorithm has a time complexity of O(nlog(n)), where n is the length of the input array. It achieves this complexity by recursively dividing the array into halves and merging them in a sorted manner.\n",
    "\n",
    "Space Complexity: The merge sort algorithm uses additional space to store the merged array during the merging process. The space complexity is O(n), where n is the length of the input array. However, it doesn't use any extra space proportional to the input size, making it an efficient algorithm in terms of space complexity.\n",
    "\n",
    "Now you can use the sortArray function to sort your array in ascending order.\n"
   ]
  },
  {
   "cell_type": "markdown",
   "id": "482208f3",
   "metadata": {},
   "source": [
    "<aside>\n",
    "💡 7. **Intersection of Two Arrays**\n",
    "\n",
    "Given two integer arrays `nums1` and `nums2`, return *an array of their intersection*. Each element in the result must be **unique** and you may return the result in **any order**.\n",
    "\n",
    "**Example 1:**\n",
    "\n",
    "```\n",
    "Input: nums1 = [1,2,2,1], nums2 = [2,2]\n",
    "Output: [2]\n",
    "\n",
    "```\n",
    "\n",
    "**Example 2:**\n",
    "\n",
    "</aside>"
   ]
  },
  {
   "cell_type": "code",
   "execution_count": 17,
   "id": "6d385b44",
   "metadata": {},
   "outputs": [],
   "source": [
    "def intersection(nums1, nums2):\n",
    "    set1 = set(nums1)\n",
    "    set2 = set(nums2)\n",
    "    intersect = set1.intersection(set2)\n",
    "    return list(intersect)"
   ]
  },
  {
   "cell_type": "code",
   "execution_count": 18,
   "id": "7cf8496f",
   "metadata": {},
   "outputs": [
    {
     "data": {
      "text/plain": [
       "[2]"
      ]
     },
     "execution_count": 18,
     "metadata": {},
     "output_type": "execute_result"
    }
   ],
   "source": [
    "intersection([1,2,1,1],[2,2])"
   ]
  },
  {
   "cell_type": "markdown",
   "id": "e24c88ec",
   "metadata": {},
   "source": [
    "Time Complexity: Constructing the sets takes O(n1 + n2) time, where n1 and n2 are the lengths of the two input arrays. Finding the intersection takes O(min(n1, n2)), so the overall time complexity is O(n1 + n2).\n",
    "\n",
    "Space Complexity: The algorithm uses sets to store the unique elements, which requires additional space. The space complexity is O(n1 + n2), where n1 and n2 are the lengths of the two input arrays."
   ]
  },
  {
   "cell_type": "markdown",
   "id": "6b935410",
   "metadata": {},
   "source": [
    "<aside>\n",
    "💡 8. **Intersection of Two Arrays II**\n",
    "\n",
    "Given two integer arrays `nums1` and `nums2`, return *an array of their intersection*. Each element in the result must appear as many times as it shows in both arrays and you may return the result in **any order**.\n",
    "\n",
    "**Example 1:**\n",
    "\n",
    "```\n",
    "Input: nums1 = [1,2,2,1], nums2 = [2,2]\n",
    "Output: [2,2]\n",
    "\n",
    "```\n",
    "\n",
    "**Example 2:**\n",
    "\n",
    "</aside>"
   ]
  },
  {
   "cell_type": "code",
   "execution_count": 19,
   "id": "a52d03ab",
   "metadata": {},
   "outputs": [],
   "source": [
    "from collections import defaultdict\n",
    "\n",
    "def intersect(nums1, nums2):\n",
    "    # Create a frequency map for nums1\n",
    "    freq_map = defaultdict(int)\n",
    "    for num in nums1:\n",
    "        freq_map[num] += 1\n",
    "    \n",
    "    # Find the intersection while considering frequencies\n",
    "    result = []\n",
    "    for num in nums2:\n",
    "        if freq_map[num] > 0:\n",
    "            result.append(num)\n",
    "            freq_map[num] -= 1\n",
    "    \n",
    "    return result"
   ]
  },
  {
   "cell_type": "markdown",
   "id": "58a40972",
   "metadata": {},
   "source": [
    "Time Complexity: The solution has a time complexity of O(m + n), where m and n are the lengths of nums1 and nums2, respectively. We iterate through both arrays once to create the frequency map and find the intersection.\n",
    "\n",
    "Space Complexity: The solution uses a hash map to store the frequency of elements in nums1, which requires space proportional to the number of unique elements in nums1. Therefore, the space complexity is O(min(m, n)), where m and n are the lengths of nums1 and nums2, respectively."
   ]
  },
  {
   "cell_type": "code",
   "execution_count": null,
   "id": "9977dfef",
   "metadata": {},
   "outputs": [],
   "source": []
  }
 ],
 "metadata": {
  "kernelspec": {
   "display_name": "Python 3.9 (tensorflow)",
   "language": "python",
   "name": "tensorflow"
  },
  "language_info": {
   "codemirror_mode": {
    "name": "ipython",
    "version": 3
   },
   "file_extension": ".py",
   "mimetype": "text/x-python",
   "name": "python",
   "nbconvert_exporter": "python",
   "pygments_lexer": "ipython3",
   "version": "3.9.15"
  }
 },
 "nbformat": 4,
 "nbformat_minor": 5
}
