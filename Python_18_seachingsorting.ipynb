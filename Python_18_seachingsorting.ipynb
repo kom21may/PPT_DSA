{
 "cells": [
  {
   "cell_type": "markdown",
   "id": "37d82a5f",
   "metadata": {},
   "source": [
    "<aside>\n",
    "💡 1. **Merge Intervals**\n",
    "\n",
    "Given an array of `intervals` where `intervals[i] = [starti, endi]`, merge all overlapping intervals, and return *an array of the non-overlapping intervals that cover all the intervals in the input*.\n",
    "\n",
    "**Example 1:**\n",
    "\n",
    "</aside>"
   ]
  },
  {
   "cell_type": "code",
   "execution_count": 1,
   "id": "df2677ca",
   "metadata": {},
   "outputs": [],
   "source": [
    "def merge(intervals):\n",
    "    intervals.sort(key=lambda x: x[0])\n",
    "    merged = []\n",
    "    \n",
    "    for interval in intervals:\n",
    "        if not merged or interval[0] > merged[-1][1]:\n",
    "            merged.append(interval)\n",
    "        else:\n",
    "            merged[-1][1] = max(merged[-1][1], interval[1])\n",
    "    \n",
    "    return merged"
   ]
  },
  {
   "cell_type": "code",
   "execution_count": 2,
   "id": "378b386c",
   "metadata": {},
   "outputs": [
    {
     "data": {
      "text/plain": [
       "[[1, 5]]"
      ]
     },
     "execution_count": 2,
     "metadata": {},
     "output_type": "execute_result"
    }
   ],
   "source": [
    "intervals = [[1,4],[4,5]]\n",
    "merge(intervals)"
   ]
  },
  {
   "cell_type": "markdown",
   "id": "62882e2a",
   "metadata": {},
   "source": [
    "Time Complexity: Sorting the intervals takes O(n log n) time, where n is the number of intervals. After sorting, the merging process takes linear time O(n) because we iterate through each interval once.\n",
    "\n",
    "Space Complexity: The space complexity is O(n) because we need to store the merged intervals."
   ]
  },
  {
   "cell_type": "markdown",
   "id": "4ce5a45d",
   "metadata": {},
   "source": [
    "<aside>\n",
    "💡 2. **Sort Colors**\n",
    "\n",
    "Given an array `nums` with `n` objects colored red, white, or blue, sort them **[in-place](https://en.wikipedia.org/wiki/In-place_algorithm)** so that objects of the same color are adjacent, with the colors in the order red, white, and blue.\n",
    "\n",
    "We will use the integers `0`, `1`, and `2` to represent the color red, white, and blue, respectively.\n",
    "\n",
    "You must solve this problem without using the library's sort function.\n",
    "\n",
    "**Example 1:**\n",
    "\n",
    "```\n",
    "Input: nums = [2,0,2,1,1,0]\n",
    "Output: [0,0,1,1,2,2]\n",
    "\n",
    "```\n",
    "\n",
    "**Example 2:**\n",
    "\n",
    "</aside>"
   ]
  },
  {
   "cell_type": "code",
   "execution_count": 3,
   "id": "148e6d17",
   "metadata": {},
   "outputs": [],
   "source": [
    "def sortColors(nums):\n",
    "    low, mid, high = 0, 0, len(nums) - 1\n",
    "    \n",
    "    while mid <= high:\n",
    "        if nums[mid] == 0:\n",
    "            nums[low], nums[mid] = nums[mid], nums[low]\n",
    "            low += 1\n",
    "            mid += 1\n",
    "        elif nums[mid] == 1:\n",
    "            mid += 1\n",
    "        else:\n",
    "            nums[mid], nums[high] = nums[high], nums[mid]\n",
    "            high -= 1"
   ]
  },
  {
   "cell_type": "markdown",
   "id": "400a4ff4",
   "metadata": {},
   "source": [
    "Time Complexity: The algorithm performs a single pass through the array, so the time complexity is O(n), where n is the length of the input array.\n",
    "\n",
    "Space Complexity: The algorithm operates in-place, so the space complexity is O(1)."
   ]
  },
  {
   "cell_type": "markdown",
   "id": "a3cacac3",
   "metadata": {},
   "source": [
    "<aside>\n",
    "💡 . **First Bad Version Solution**\n",
    "\n",
    "You are a product manager and currently leading a team to develop a new product. Unfortunately, the latest version of your product fails the quality check. Since each version is developed based on the previous version, all the versions after a bad version are also bad.\n",
    "\n",
    "Suppose you have `n` versions `[1, 2, ..., n]` and you want to find out the first bad one, which causes all the following ones to be bad.\n",
    "\n",
    "You are given an API `bool isBadVersion(version)` which returns whether `version` is bad. Implement a function to find the first bad version. You should minimize the number of calls to the API.\n",
    "\n",
    "**Example 1:**\n",
    "\n",
    "```\n",
    "Input: n = 5, bad = 4\n",
    "Output: 4\n",
    "Explanation:\n",
    "call isBadVersion(3) -> false\n",
    "call isBadVersion(5) -> true\n",
    "call isBadVersion(4) -> true\n",
    "Then 4 is the first bad version.\n",
    "\n",
    "```\n",
    "\n",
    "**Example 2:**\n",
    "\n",
    "</aside>"
   ]
  },
  {
   "cell_type": "code",
   "execution_count": 4,
   "id": "a0743b3f",
   "metadata": {},
   "outputs": [],
   "source": [
    "def firstBadVersion(n):\n",
    "    left, right = 1, n\n",
    "    \n",
    "    while left < right:\n",
    "        mid = left + (right - left) // 2\n",
    "        if isBadVersion(mid):\n",
    "            right = mid\n",
    "        else:\n",
    "            left = mid + 1\n",
    "    \n",
    "    return left"
   ]
  },
  {
   "cell_type": "markdown",
   "id": "5940f374",
   "metadata": {},
   "source": [
    "Time Complexity: The algorithm uses binary search to find the first bad version, which has a time complexity of O(log n), where n is the number of versions.\n",
    "\n",
    "Space Complexity: The space complexity is O(1) as the algorithm uses a constant amount of additional space."
   ]
  },
  {
   "cell_type": "markdown",
   "id": "c735f53c",
   "metadata": {},
   "source": [
    "<aside>\n",
    "💡 4. **Maximum Gap**\n",
    "\n",
    "Given an integer array `nums`, return *the maximum difference between two successive elements in its sorted form*. If the array contains less than two elements, return `0`.\n",
    "\n",
    "You must write an algorithm that runs in linear time and uses linear extra space.\n",
    "\n",
    "**Example 1:**\n",
    "\n",
    "```\n",
    "Input: nums = [3,6,9,1]\n",
    "Output: 3\n",
    "Explanation: The sorted form of the array is [1,3,6,9], either (3,6) or (6,9) has the maximum difference 3.\n",
    "\n",
    "```\n",
    "\n",
    "**Example 2:**\n",
    "\n",
    "</aside>"
   ]
  },
  {
   "cell_type": "code",
   "execution_count": 5,
   "id": "a2183afc",
   "metadata": {},
   "outputs": [],
   "source": [
    "def maximumGap(nums):\n",
    "    if len(nums) < 2:\n",
    "        return 0\n",
    "    \n",
    "    nums.sort()\n",
    "    max_gap = 0\n",
    "    \n",
    "    for i in range(1, len(nums)):\n",
    "        max_gap = max(max_gap, nums[i] - nums[i - 1])\n",
    "    \n",
    "    return max_gap"
   ]
  },
  {
   "cell_type": "code",
   "execution_count": 7,
   "id": "897afa46",
   "metadata": {},
   "outputs": [
    {
     "data": {
      "text/plain": [
       "3"
      ]
     },
     "execution_count": 7,
     "metadata": {},
     "output_type": "execute_result"
    }
   ],
   "source": [
    "maximumGap([3,6,9,1])"
   ]
  },
  {
   "cell_type": "markdown",
   "id": "7e8ee85b",
   "metadata": {},
   "source": [
    "Time Complexity: The algorithm first sorts the input array, which takes O(n log n) time. Then, it iterates through the sorted array once, resulting in a time complexity of O(n).\n",
    "\n",
    "Space Complexity: The space complexity is O(1) because the algorithm uses a constant amount of additional space."
   ]
  },
  {
   "cell_type": "markdown",
   "id": "111ea9e1",
   "metadata": {},
   "source": [
    "<aside>\n",
    "💡 5. **Contains Duplicate**\n",
    "\n",
    "Given an integer array `nums`, return `true` if any value appears **at least twice** in the array, and return `false` if every element is distinct.\n",
    "\n",
    "**Example 1:**\n",
    "\n",
    "```\n",
    "Input: nums = [1,2,3,1]\n",
    "Output: true\n",
    "\n",
    "```\n",
    "\n",
    "**Example 2:**\n",
    "\n",
    "</aside>"
   ]
  },
  {
   "cell_type": "code",
   "execution_count": 6,
   "id": "83e1d821",
   "metadata": {},
   "outputs": [],
   "source": [
    "def containsDuplicate(nums):\n",
    "    return len(nums) != len(set(nums))\n"
   ]
  },
  {
   "cell_type": "code",
   "execution_count": 8,
   "id": "4e0ce3c7",
   "metadata": {},
   "outputs": [
    {
     "data": {
      "text/plain": [
       "True"
      ]
     },
     "execution_count": 8,
     "metadata": {},
     "output_type": "execute_result"
    }
   ],
   "source": [
    "containsDuplicate([1,2,3,1])"
   ]
  },
  {
   "cell_type": "markdown",
   "id": "cb0e0969",
   "metadata": {},
   "source": [
    "Time Complexity: The algorithm uses a set to store unique elements and compares the length of the set with the length of the input array. Both operations take O(n) time, where n is the length of the input array.\n",
    "\n",
    "Space Complexity: The space complexity is O(n) because the algorithm uses a set to store unique elements."
   ]
  },
  {
   "cell_type": "markdown",
   "id": "e62b3fc1",
   "metadata": {},
   "source": [
    "<aside>\n",
    "💡 6. **Minimum Number of Arrows to Burst Balloons**\n",
    "\n",
    "There are some spherical balloons taped onto a flat wall that represents the XY-plane. The balloons are represented as a 2D integer array `points` where `points[i] = [xstart, xend]` denotes a balloon whose **horizontal diameter** stretches between `xstart` and `xend`. You do not know the exact y-coordinates of the balloons.\n",
    "\n",
    "Arrows can be shot up **directly vertically** (in the positive y-direction) from different points along the x-axis. A balloon with `xstart` and `xend` is **burst** by an arrow shot at `x` if `xstart <= x <= xend`. There is **no limit** to the number of arrows that can be shot. A shot arrow keeps traveling up infinitely, bursting any balloons in its path.\n",
    "\n",
    "Given the array `points`, return *the **minimum** number of arrows that must be shot to burst all balloons*.\n",
    "\n",
    "**Example 1:**\n",
    "\n",
    "</aside>"
   ]
  },
  {
   "cell_type": "markdown",
   "id": "afcb333a",
   "metadata": {},
   "source": [
    "Input: points = [[10,16],[2,8],[1,6],[7,12]]\n",
    "Output: 2\n",
    "Explanation: The balloons can be burst by 2 arrows:\n",
    "- Shoot an arrow at x = 6, bursting the balloons [2,8] and [1,6].\n",
    "- Shoot an arrow at x = 11, bursting the balloons [10,16] and [7,12].\n"
   ]
  },
  {
   "cell_type": "code",
   "execution_count": 9,
   "id": "6b608e80",
   "metadata": {},
   "outputs": [],
   "source": [
    "def findMinArrowShots(points):\n",
    "    if not points:\n",
    "        return 0\n",
    "    \n",
    "    points.sort(key=lambda x: x[1])\n",
    "    arrows = 1\n",
    "    end = points[0][1]\n",
    "    \n",
    "    for i in range(1, len(points)):\n",
    "        if points[i][0] > end:\n",
    "            arrows += 1\n",
    "            end = points[i][1]\n",
    "    \n",
    "    return arrows"
   ]
  },
  {
   "cell_type": "code",
   "execution_count": 10,
   "id": "04f38817",
   "metadata": {},
   "outputs": [
    {
     "data": {
      "text/plain": [
       "2"
      ]
     },
     "execution_count": 10,
     "metadata": {},
     "output_type": "execute_result"
    }
   ],
   "source": [
    "findMinArrowShots([[10,16],[2,8],[1,6],[7,12]])"
   ]
  },
  {
   "cell_type": "markdown",
   "id": "389be096",
   "metadata": {},
   "source": [
    "Time Complexity: The algorithm first sorts the input array based on the end coordinate of each balloon, which takes O(n log n) time. Then, it iterates through the sorted array once, resulting in a time complexity of O(n).\n",
    "\n",
    "Space Complexity: The space complexity is O(1) because the algorithm uses a constant amount of additional space.\n",
    "\n"
   ]
  },
  {
   "cell_type": "markdown",
   "id": "ab1c4b48",
   "metadata": {},
   "source": [
    "<aside>\n",
    "💡 7. **Longest Increasing Subsequence**\n",
    "\n",
    "Given an integer array `nums`, return *the length of the longest **strictly increasing***\n",
    "\n",
    "***subsequence***\n",
    "\n",
    ".\n",
    "\n",
    "**Example 1:**\n",
    "\n",
    "```\n",
    "Input: nums = [10,9,2,5,3,7,101,18]\n",
    "Output: 4\n",
    "Explanation: The longest increasing subsequence is [2,3,7,101], therefore the length is 4.\n",
    "\n",
    "```\n",
    "\n",
    "**Example 2:**\n",
    "\n",
    "</aside>"
   ]
  },
  {
   "cell_type": "code",
   "execution_count": 11,
   "id": "7525c4ca",
   "metadata": {},
   "outputs": [],
   "source": [
    "def lengthOfLIS(nums):\n",
    "    dp = [1] * len(nums)\n",
    "    max_length = 1\n",
    "    \n",
    "    for i in range(1, len(nums)):\n",
    "        for j in range(i):\n",
    "            if nums[i] > nums[j]:\n",
    "                dp[i] = max(dp[i], dp[j] + 1)\n",
    "        \n",
    "        max_length = max(max_length, dp[i])\n",
    "    \n",
    "    return max_length"
   ]
  },
  {
   "cell_type": "code",
   "execution_count": 13,
   "id": "2a367993",
   "metadata": {},
   "outputs": [
    {
     "data": {
      "text/plain": [
       "4"
      ]
     },
     "execution_count": 13,
     "metadata": {},
     "output_type": "execute_result"
    }
   ],
   "source": [
    "lengthOfLIS([10,9,2,5,3,7,101,18])"
   ]
  },
  {
   "cell_type": "markdown",
   "id": "e2475c06",
   "metadata": {},
   "source": [
    "Time Complexity: The algorithm uses dynamic programming to find the length of the longest increasing subsequence. It has a nested loop structure, resulting in a time complexity of O(n^2), where n is the length of the input array.\n",
    "\n",
    "Space Complexity: The space complexity is O(n) because the algorithm uses an additional array of length n to store the intermediate results.\n",
    "\n"
   ]
  },
  {
   "cell_type": "markdown",
   "id": "b9d55907",
   "metadata": {},
   "source": [
    "<aside>\n",
    "💡 8. **132 Pattern**\n",
    "\n",
    "Given an array of `n` integers `nums`, a **132 pattern** is a subsequence of three integers `nums[i]`, `nums[j]` and `nums[k]` such that `i < j < k` and `nums[i] < nums[k] < nums[j]`.\n",
    "\n",
    "Return `true` *if there is a **132 pattern** in* `nums`*, otherwise, return* `false`*.*\n",
    "\n",
    "**Example 1:**\n",
    "\n",
    "```\n",
    "Input: nums = [1,2,3,4]\n",
    "Output: false\n",
    "Explanation: There is no 132 pattern in the sequence.\n",
    "\n",
    "```\n",
    "\n",
    "**Example 2:**\n",
    "\n",
    "</aside>"
   ]
  },
  {
   "cell_type": "code",
   "execution_count": 15,
   "id": "9d31b0a3",
   "metadata": {},
   "outputs": [],
   "source": [
    "def find132pattern(nums):\n",
    "    stack = []\n",
    "    s3 = float('-inf')\n",
    "    \n",
    "    for i in range(len(nums) - 1, -1, -1):\n",
    "        if nums[i] < s3:\n",
    "            return True\n",
    "        else:\n",
    "            while stack and nums[i] > stack[-1]:\n",
    "                s3 = stack.pop()\n",
    "            stack.append(nums[i])\n",
    "    \n",
    "    return False"
   ]
  },
  {
   "cell_type": "code",
   "execution_count": 16,
   "id": "1f4529ce",
   "metadata": {},
   "outputs": [
    {
     "data": {
      "text/plain": [
       "False"
      ]
     },
     "execution_count": 16,
     "metadata": {},
     "output_type": "execute_result"
    }
   ],
   "source": [
    "find132pattern([1,2,3,4])"
   ]
  },
  {
   "cell_type": "markdown",
   "id": "ea73a33a",
   "metadata": {},
   "source": [
    "Time Complexity: The algorithm uses a stack and performs a single pass through the input array, resulting in a time complexity of O(n), where n is the length of the input array.\n",
    "\n",
    "Space Complexity: The space complexity is O(n) because the algorithm uses a stack to store elements from the input array."
   ]
  },
  {
   "cell_type": "code",
   "execution_count": null,
   "id": "3707bd01",
   "metadata": {},
   "outputs": [],
   "source": []
  }
 ],
 "metadata": {
  "kernelspec": {
   "display_name": "Python 3.9 (tensorflow)",
   "language": "python",
   "name": "tensorflow"
  },
  "language_info": {
   "codemirror_mode": {
    "name": "ipython",
    "version": 3
   },
   "file_extension": ".py",
   "mimetype": "text/x-python",
   "name": "python",
   "nbconvert_exporter": "python",
   "pygments_lexer": "ipython3",
   "version": "3.9.15"
  }
 },
 "nbformat": 4,
 "nbformat_minor": 5
}
