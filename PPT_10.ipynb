{
 "cells": [
  {
   "cell_type": "markdown",
   "id": "076119f8",
   "metadata": {},
   "source": [
    "<aside>\n",
    "💡 **Question 1**\n",
    "\n",
    "Given an integer `n`, return *`true` if it is a power of three. Otherwise, return `false`*.\n",
    "\n",
    "An integer `n` is a power of three, if there exists an integer `x` such that `n == 3x`.\n",
    "\n",
    "**Example 1:**\n",
    "\n",
    "</aside>"
   ]
  },
  {
   "cell_type": "code",
   "execution_count": 1,
   "id": "0eaad8a2",
   "metadata": {},
   "outputs": [],
   "source": [
    "def ispower3(num):\n",
    "    if num==1:\n",
    "        \n",
    "        return True\n",
    "    elif num<=0 or num%3!=0:\n",
    "        return False\n",
    "    else:\n",
    "        return ispower3(num/3)"
   ]
  },
  {
   "cell_type": "code",
   "execution_count": 3,
   "id": "8b903a92",
   "metadata": {},
   "outputs": [
    {
     "data": {
      "text/plain": [
       "True"
      ]
     },
     "execution_count": 3,
     "metadata": {},
     "output_type": "execute_result"
    }
   ],
   "source": [
    "ispower3(27)"
   ]
  },
  {
   "cell_type": "code",
   "execution_count": 4,
   "id": "e0b3b64e",
   "metadata": {},
   "outputs": [
    {
     "data": {
      "text/plain": [
       "False"
      ]
     },
     "execution_count": 4,
     "metadata": {},
     "output_type": "execute_result"
    }
   ],
   "source": [
    "ispower3(18)"
   ]
  },
  {
   "cell_type": "markdown",
   "id": "30d59de9",
   "metadata": {},
   "source": [
    "The time complexity of the recursive solution to determine if an integer n is a power of three is O(log(n)). This is because in each recursive call, we divide n by 3. The number of recursive calls required is proportional to the logarithm of n to the base 3. Hence, the time complexity is logarithmic.\n",
    "\n",
    "The space complexity of the recursive solution is O(log(n)). This is because the space required by the call stack is proportional to the number of recursive calls made. Since the number of recursive calls is logarithmic in n, the space complexity is also logarithmic"
   ]
  },
  {
   "cell_type": "markdown",
   "id": "ca9a6622",
   "metadata": {},
   "source": [
    "<aside>\n",
    "💡 **Question 2**\n",
    "\n",
    "You have a list `arr` of all integers in the range `[1, n]` sorted in a strictly increasing order. Apply the following algorithm on `arr`:\n",
    "\n",
    "- Starting from left to right, remove the first number and every other number afterward until you reach the end of the list.\n",
    "- Repeat the previous step again, but this time from right to left, remove the rightmost number and every other number from the remaining numbers.\n",
    "- Keep repeating the steps again, alternating left to right and right to left, until a single number remains.\n",
    "\n",
    "Given the integer `n`, return *the last number that remains in* `arr`.\n",
    "\n",
    "**Example 1:**\n",
    "\n",
    "</aside>"
   ]
  },
  {
   "cell_type": "code",
   "execution_count": 5,
   "id": "7c0558ae",
   "metadata": {},
   "outputs": [],
   "source": [
    "def last_remaining_number(n):\n",
    "    start = 1\n",
    "    step = 1\n",
    "    left_to_right = True\n",
    "\n",
    "    while n > 1:\n",
    "        if left_to_right or n % 2 == 1:\n",
    "            start += step\n",
    "\n",
    "        step *= 2\n",
    "        n //= 2\n",
    "        left_to_right = not left_to_right\n",
    "\n",
    "    return start\n"
   ]
  },
  {
   "cell_type": "code",
   "execution_count": 6,
   "id": "ded2dcba",
   "metadata": {},
   "outputs": [
    {
     "name": "stdout",
     "output_type": "stream",
     "text": [
      "6\n"
     ]
    }
   ],
   "source": [
    "print(last_remaining_number(9))"
   ]
  },
  {
   "cell_type": "markdown",
   "id": "7d41d014",
   "metadata": {},
   "source": [
    "The time complexity of the iterative solution to find the last remaining number is O(log n). This is because in each iteration, the number of elements is halved, and the algorithm continues until n becomes 1. The number of iterations required is proportional to the logarithm of n to the base 2.\n",
    "\n",
    "The space complexity of the iterative solution is O(1) because it only requires a constant amount of extra space to store the variables start, step, and left_to_right. The space usage does not depend on the input size."
   ]
  },
  {
   "cell_type": "markdown",
   "id": "ec4bbb82",
   "metadata": {},
   "source": [
    "<aside>\n",
    "💡 **Question 3**\n",
    "\n",
    "****Given a set represented as a string, write a recursive code to print all subsets of it. The subsets can be printed in any order.\n",
    "\n",
    "**Example 1:**\n",
    "\n",
    "Input :  set = “abc”\n",
    "\n",
    "Output : { “”, “a”, “b”, “c”, “ab”, “ac”, “bc”, “abc”}\n",
    "\n",
    "**Example 2:**\n",
    "\n",
    "Input : set = “abcd”\n",
    "\n",
    "Output : { “”, “a” ,”ab” ,”abc” ,”abcd”, “abd” ,”ac” ,”acd”, “ad” ,”b”, “bc” ,”bcd” ,”bd” ,”c” ,”cd” ,”d” }\n",
    "\n",
    "</aside>"
   ]
  },
  {
   "cell_type": "code",
   "execution_count": 7,
   "id": "f6f541b1",
   "metadata": {},
   "outputs": [],
   "source": [
    "def print_all_subsets(s):\n",
    "    subsets = []\n",
    "    generate_subsets(s, \"\", 0, subsets)\n",
    "    return subsets\n",
    "\n",
    "def generate_subsets(s, current_subset, index, subsets):\n",
    "    if index == len(s):\n",
    "        subsets.append(current_subset)\n",
    "        return\n",
    "\n",
    "    # Include the character at the current index in the current subset\n",
    "    generate_subsets(s, current_subset + s[index], index + 1, subsets)\n",
    "\n",
    "    # Exclude the character at the current index from the current subset\n",
    "    generate_subsets(s, current_subset, index + 1, subsets)"
   ]
  },
  {
   "cell_type": "markdown",
   "id": "e9425ccf",
   "metadata": {},
   "source": [
    "he time complexity of the recursive solution to generate all subsets is O(2^N), where N is the length of the input string s. This is because for each character in the string, we have two possibilities: either include it or exclude it. As a result, the number of recursive calls doubles with each character, leading to an exponential time complexity.\n",
    "\n",
    "The space complexity of the recursive solution is O(N) in the worst case, where N is the length of the input string s. This space is used to store the recursive call stack during the execution of the function. Since the depth of the recursion is equal to the length of the string, the space complexity is proportional to N.\n",
    "\n",
    "Overall, the recursive solution has exponential "
   ]
  },
  {
   "cell_type": "markdown",
   "id": "67583d7d",
   "metadata": {},
   "source": [
    "<aside>\n",
    "💡 **Question 4**\n",
    "\n",
    "Given a string calculate length of the string using recursion.\n",
    "\n",
    "**Examples:**\n",
    "\n",
    "</aside>"
   ]
  },
  {
   "cell_type": "code",
   "execution_count": 8,
   "id": "4c7a68bc",
   "metadata": {},
   "outputs": [],
   "source": [
    "def calculate_length(s):\n",
    "    if s == \"\":\n",
    "        return 0\n",
    "    else:\n",
    "        return 1 + calculate_length(s[:-1])"
   ]
  },
  {
   "cell_type": "markdown",
   "id": "316f95b8",
   "metadata": {},
   "source": [
    "The time complexity of the recursive solution is O(N), where N is the length of the input string s. This is because in each recursive call, we reduce the length of the string by 1 until it becomes empty. Since the function makes N recursive calls, the time complexity is linear with respect to the length of the string.\n",
    "\n",
    "The space complexity of the recursive solution is O(N) as well. This is because in each recursive call, a new stack frame is created to store the current state of the function, including the substring s. Since the maximum depth of recursion is equal to the length of the string, the space complexity is proportional to N."
   ]
  },
  {
   "cell_type": "markdown",
   "id": "47c6229f",
   "metadata": {},
   "source": [
    "<aside>\n",
    "💡 **Question 5**\n",
    "\n",
    "We are given a string S, we need to find count of all contiguous substrings starting and ending with same character.\n",
    "\n",
    "**Examples :**\n",
    "\n",
    "</aside>"
   ]
  },
  {
   "cell_type": "code",
   "execution_count": 9,
   "id": "d50dd817",
   "metadata": {},
   "outputs": [],
   "source": [
    "def count_contiguous_substrings(s):\n",
    "    count = 0\n",
    "    n = len(s)\n",
    "\n",
    "    for i in range(n):\n",
    "        for j in range(i, n):\n",
    "            if s[i] == s[j]:\n",
    "                count += 1\n",
    "\n",
    "    return count"
   ]
  },
  {
   "cell_type": "code",
   "execution_count": 10,
   "id": "0555bc68",
   "metadata": {},
   "outputs": [
    {
     "name": "stdout",
     "output_type": "stream",
     "text": [
      "3\n"
     ]
    }
   ],
   "source": [
    "print(count_contiguous_substrings(\"abc\"))"
   ]
  },
  {
   "cell_type": "code",
   "execution_count": 11,
   "id": "ed7f8631",
   "metadata": {},
   "outputs": [
    {
     "name": "stdout",
     "output_type": "stream",
     "text": [
      "10\n"
     ]
    }
   ],
   "source": [
    "print(count_contiguous_substrings(\"aaaa\"))"
   ]
  },
  {
   "cell_type": "markdown",
   "id": "fe1432e7",
   "metadata": {},
   "source": [
    "The time complexity of this solution is O(N^2), where N is the length of the string. This is because we have two nested loops iterating over the string. In the worst case, the inner loop runs N times for each iteration of the outer loop, resulting in a quadratic time complexity.\n",
    "\n",
    "The space complexity of this solution is O(1) since we are using a constant amount of extra space to store the count variable."
   ]
  },
  {
   "cell_type": "markdown",
   "id": "28f5e9f5",
   "metadata": {},
   "source": [
    "<aside>\n",
    "💡 **Question 6**\n",
    "\n",
    "The [tower of Hanoi](https://en.wikipedia.org/wiki/Tower_of_Hanoi) is a famous puzzle where we have three rods and **N** disks. The objective of the puzzle is to move the entire stack to another rod. You are given the number of discs **N**. Initially, these discs are in the rod 1. You need to print all the steps of discs movement so that all the discs reach the 3rd rod. Also, you need to find the total moves.**Note:** The discs are arranged such that the **top disc is numbered 1** and the **bottom-most disc is numbered N**. Also, all the discs have **different sizes** and a bigger disc **cannot** be put on the top of a smaller disc. Refer the provided link to get a better clarity about the puzzle.\n",
    "\n",
    "**Example 1:**\n",
    "\n",
    "</aside>"
   ]
  },
  {
   "cell_type": "code",
   "execution_count": 13,
   "id": "9d1df9bd",
   "metadata": {},
   "outputs": [],
   "source": [
    "def tower_of_hanoi(n, source, destination, auxiliary):\n",
    "    if n == 1:\n",
    "        print(f\"Move disk 1 from rod {source} to rod {destination}\")\n",
    "        return 1\n",
    "\n",
    "    count = 0\n",
    "\n",
    "    count += tower_of_hanoi(n - 1, source, auxiliary, destination)\n",
    "    print(f\"Move disk {n} from rod {source} to rod {destination}\")\n",
    "    count += 1\n",
    "    count += tower_of_hanoi(n - 1, auxiliary, destination, source)\n",
    "\n",
    "    return count"
   ]
  },
  {
   "cell_type": "code",
   "execution_count": 14,
   "id": "4a12982e",
   "metadata": {},
   "outputs": [
    {
     "name": "stdout",
     "output_type": "stream",
     "text": [
      "Move disk 1 from rod 1 to rod 3\n",
      "Move disk 2 from rod 1 to rod 2\n",
      "Move disk 1 from rod 3 to rod 2\n",
      "Move disk 3 from rod 1 to rod 3\n",
      "Move disk 1 from rod 2 to rod 1\n",
      "Move disk 2 from rod 2 to rod 3\n",
      "Move disk 1 from rod 1 to rod 3\n",
      "Total moves: 7\n"
     ]
    }
   ],
   "source": [
    "n = 3\n",
    "source = 1\n",
    "destination = 3\n",
    "auxiliary = 2\n",
    "\n",
    "total_moves = tower_of_hanoi(n, source, destination, auxiliary)\n",
    "print(f\"Total moves: {total_moves}\")"
   ]
  },
  {
   "cell_type": "markdown",
   "id": "db88fbb6",
   "metadata": {},
   "source": [
    "The time complexity of the Tower of Hanoi algorithm is O(2^N), where N is the number of discs. This is because the number of moves doubles with each additional disc, resulting in an exponential time complexity.\n",
    "\n",
    "The space complexity of the algorithm is O(N) due to the recursion stack, where N is the number of discs. The recursion depth is equal to the number of discs, so the space required is proportional to N."
   ]
  },
  {
   "cell_type": "markdown",
   "id": "b80f7471",
   "metadata": {},
   "source": [
    "<aside>\n",
    "💡 **Question 7**\n",
    "\n",
    "Given a string **str**, the task is to print all the permutations of **str**. A **permutation** is an arrangement of all or part of a set of objects, with regard to the order of the arrangement. For instance, the words ‘bat’ and ‘tab’ represents two distinct permutation (or arrangements) of a similar three letter word.\n",
    "\n",
    "**Examples:**\n",
    "\n",
    "> Input: str = “cd”\n",
    "> \n",
    "> \n",
    "> **Output:** cd dc\n",
    "> \n",
    "> **Input:** str = “abb”\n",
    "> \n",
    "> **Output:** abb abb bab bba bab bba\n",
    "> \n",
    "</aside>"
   ]
  },
  {
   "cell_type": "code",
   "execution_count": 15,
   "id": "c8572fee",
   "metadata": {},
   "outputs": [],
   "source": [
    "def print_permutations(s, left, right):\n",
    "    if left == right:\n",
    "        print(''.join(s))\n",
    "    else:\n",
    "        for i in range(left, right + 1):\n",
    "            s[left], s[i] = s[i], s[left]  # Swap characters\n",
    "            print_permutations(s, left + 1, right)\n",
    "            s[left], s[i] = s[i], s[left]  # Revert the swap\n",
    "\n",
    "def permutations(str):\n",
    "    n = len(str)\n",
    "    s = list(str)\n",
    "    print_permutations(s, 0, n - 1)"
   ]
  },
  {
   "cell_type": "code",
   "execution_count": 16,
   "id": "ce41cf0d",
   "metadata": {},
   "outputs": [
    {
     "name": "stdout",
     "output_type": "stream",
     "text": [
      "cd\n",
      "dc\n",
      "\n"
     ]
    }
   ],
   "source": [
    "permutations(\"cd\")\n",
    "print()"
   ]
  },
  {
   "cell_type": "markdown",
   "id": "322bae44",
   "metadata": {},
   "source": [
    "The time complexity of the permutation algorithm is O(N!), where N is the length of the string. This is because there are N! possible permutations of a string of length N. Generating and printing all these permutations requires exponential time.\n",
    "\n",
    "The space complexity is O(N) due to the recursion stack, where N is the length of the string. The recursion depth is equal to the length of the string, so the space required is proportional to N."
   ]
  },
  {
   "cell_type": "markdown",
   "id": "bff4c070",
   "metadata": {},
   "source": [
    "<aside>\n",
    "💡 **Question 8**\n",
    "\n",
    "Given a string, count total number of consonants in it. A consonant is an English alphabet character that is not vowel (a, e, i, o and u). Examples of constants are b, c, d, f, and g.\n",
    "\n",
    "**Examples :**\n",
    "\n",
    "</aside>"
   ]
  },
  {
   "cell_type": "code",
   "execution_count": 17,
   "id": "3f5ea63b",
   "metadata": {},
   "outputs": [],
   "source": [
    "def count_consonants(s):\n",
    "    consonants = 'bcdfghjklmnpqrstvwxyzBCDFGHJKLMNPQRSTVWXYZ'\n",
    "    count = 0\n",
    "\n",
    "    for char in s:\n",
    "        if char in consonants:\n",
    "            count += 1\n",
    "\n",
    "    return count"
   ]
  },
  {
   "cell_type": "code",
   "execution_count": 18,
   "id": "8edc3e64",
   "metadata": {},
   "outputs": [
    {
     "name": "stdout",
     "output_type": "stream",
     "text": [
      "3\n"
     ]
    }
   ],
   "source": [
    "print(count_consonants(\"Hello\"))"
   ]
  },
  {
   "cell_type": "markdown",
   "id": "66b0faa2",
   "metadata": {},
   "source": [
    "The time complexity of this solution is O(N), where N is the length of the string. This is because we iterate over each character in the string once to check if it is a consonant.\n",
    "\n",
    "The space complexity is O(1) since we are using a constant amount of extra space to store the count variable and the consonants string."
   ]
  },
  {
   "cell_type": "code",
   "execution_count": null,
   "id": "13cbfb41",
   "metadata": {},
   "outputs": [],
   "source": []
  }
 ],
 "metadata": {
  "kernelspec": {
   "display_name": "Python 3 (ipykernel)",
   "language": "python",
   "name": "python3"
  },
  "language_info": {
   "codemirror_mode": {
    "name": "ipython",
    "version": 3
   },
   "file_extension": ".py",
   "mimetype": "text/x-python",
   "name": "python",
   "nbconvert_exporter": "python",
   "pygments_lexer": "ipython3",
   "version": "3.10.9"
  }
 },
 "nbformat": 4,
 "nbformat_minor": 5
}
