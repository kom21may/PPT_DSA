{
 "cells": [
  {
   "cell_type": "markdown",
   "id": "62035166",
   "metadata": {},
   "source": [
    "<aside>\n",
    "💡 **Question 1**\n",
    "Given an integer array nums of 2n integers, group these integers into n pairs (a1, b1), (a2, b2),..., (an, bn) such that the sum of min(ai, bi) for all i is maximized. Return the maximized sum.\n",
    "\n",
    "**Example 1:**\n",
    "Input: nums = [1,4,3,2]\n",
    "Output: 4\n",
    "\n",
    "**Explanation:** All possible pairings (ignoring the ordering of elements) are:\n",
    "\n",
    "1. (1, 4), (2, 3) -> min(1, 4) + min(2, 3) = 1 + 2 = 3\n",
    "2. (1, 3), (2, 4) -> min(1, 3) + min(2, 4) = 1 + 2 = 3\n",
    "3. (1, 2), (3, 4) -> min(1, 2) + min(3, 4) = 1 + 3 = 4\n",
    "So the maximum possible sum is 4\n",
    "</aside>"
   ]
  },
  {
   "cell_type": "code",
   "execution_count": 2,
   "id": "025c3e7f",
   "metadata": {},
   "outputs": [
    {
     "name": "stdout",
     "output_type": "stream",
     "text": [
      "4\n"
     ]
    }
   ],
   "source": [
    "a=[1,4,3,2]\n",
    "a.sort()\n",
    "c=0\n",
    "for i in range(0,len(a),2):\n",
    "    #1,2,3,4\n",
    "    c+=a[i]\n",
    "print(c)    "
   ]
  },
  {
   "cell_type": "markdown",
   "id": "37c5420a",
   "metadata": {},
   "source": [
    "Question 2\n",
    "Alice has n candies, where the ith candy is of type candyType[i]. Alice noticed that she started to gain weight, so she visited a doctor. \n",
    "\n",
    "The doctor advised Alice to only eat n / 2 of the candies she has (n is always even). Alice likes her candies very much, and she wants to eat the maximum number of different types of candies while still following the doctor's advice. \n",
    "\n",
    "Given the integer array candyType of length n, return the maximum number of different types of candies she can eat if she only eats n / 2 of them.\n",
    "\n",
    "Example 1:\n",
    "Input: candyType = [1,1,2,2,3,3]\n",
    "Output: 3\n",
    "\n",
    "Explanation: Alice can only eat 6 / 2 = 3 candies. Since there are only 3 types, she can eat one of each type."
   ]
  },
  {
   "cell_type": "code",
   "execution_count": 5,
   "id": "eda260b7",
   "metadata": {},
   "outputs": [
    {
     "data": {
      "text/plain": [
       "3"
      ]
     },
     "execution_count": 5,
     "metadata": {},
     "output_type": "execute_result"
    }
   ],
   "source": [
    "def maxCandies(candyType):\n",
    "    unique_candies = set()  # Set to store the unique types of candies\n",
    "\n",
    "    # Iterate over the candyType array and add each candy type to the set\n",
    "    for candy in candyType:\n",
    "        unique_candies.add(candy)\n",
    "\n",
    "    # Calculate the maximum number of different types of candies Alice can eat\n",
    "    max_num_candies = min(len(unique_candies), len(candyType) // 2)\n",
    "\n",
    "    return max_num_candies\n",
    "maxCandies([1,1,2,2,2,3,3,3])"
   ]
  },
  {
   "cell_type": "markdown",
   "id": "ae86583c",
   "metadata": {},
   "source": [
    "Question 3\n",
    "We define a harmonious array as an array where the difference between its maximum value\n",
    "and its minimum value is exactly 1.\n",
    "\n",
    "Given an integer array nums, return the length of its longest harmonious subsequence\n",
    "among all its possible subsequences.\n",
    "\n",
    "A subsequence of an array is a sequence that can be derived from the array by deleting some or no elements without changing the order of the remaining elements.\n",
    "\n",
    "Example 1:\n",
    "Input: nums = [1,3,2,2,5,2,3,7]\n",
    "Output: 5\n",
    "\n",
    "Explanation: The longest harmonious subsequence is [3,2,2,2,3]."
   ]
  },
  {
   "cell_type": "code",
   "execution_count": 1,
   "id": "ae7d6ca0",
   "metadata": {},
   "outputs": [],
   "source": [
    "from collections import Counter"
   ]
  },
  {
   "cell_type": "code",
   "execution_count": 17,
   "id": "c4a17082",
   "metadata": {},
   "outputs": [],
   "source": [
    "def sub(arr):\n",
    "    counter=Counter(arr)\n",
    "    max_len=0\n",
    "    for i in counter:\n",
    "        if i+1 in counter:\n",
    "            length=counter[i]+counter[i+1]\n",
    "            max_len=max(length,max_len)\n",
    "    return max_len"
   ]
  },
  {
   "cell_type": "code",
   "execution_count": 19,
   "id": "6304d4d3",
   "metadata": {},
   "outputs": [
    {
     "data": {
      "text/plain": [
       "6"
      ]
     },
     "execution_count": 19,
     "metadata": {},
     "output_type": "execute_result"
    }
   ],
   "source": [
    "sub([1,3,2,2,5,2,3,7,5])"
   ]
  },
  {
   "cell_type": "code",
   "execution_count": 20,
   "id": "90d7f6d7",
   "metadata": {},
   "outputs": [],
   "source": [
    "#time complexity=O(n)...As single loop is used only\n",
    "#space complexity=O(1)-->no space is required"
   ]
  },
  {
   "cell_type": "markdown",
   "id": "08667972",
   "metadata": {},
   "source": [
    "Question 4\n",
    "You have a long flowerbed in which some of the plots are planted, and some are not.\n",
    "However, flowers cannot be planted in adjacent plots.\n",
    "Given an integer array flowerbed containing 0's and 1's, where 0 means empty and 1 means not empty, and an integer n, return true if n new flowers can be planted in the flowerbed without violating the no-adjacent-flowers rule and false otherwise.\n",
    "\n",
    "Example 1:\n",
    "Input: flowerbed = [1,0,0,0,1], n = 1\n",
    "Output: true"
   ]
  },
  {
   "cell_type": "code",
   "execution_count": 21,
   "id": "eb8dbb4f",
   "metadata": {},
   "outputs": [
    {
     "name": "stdout",
     "output_type": "stream",
     "text": [
      "True\n"
     ]
    }
   ],
   "source": [
    "def canPlaceFlowers(flowerbed, n):\n",
    "    count = 0\n",
    "    size = len(flowerbed)\n",
    "    i = 0\n",
    "    \n",
    "    while i < size:\n",
    "        if flowerbed[i] == 0 and (i == 0 or flowerbed[i - 1] == 0) and (i == size - 1 or flowerbed[i + 1] == 0):\n",
    "            count += 1\n",
    "            flowerbed[i] = 1\n",
    "            i += 2\n",
    "        else:\n",
    "            i += 1\n",
    "    \n",
    "    return count >= n\n",
    "flowerbed = [1, 0, 0, 0, 1]\n",
    "n = 1\n",
    "print(canPlaceFlowers(flowerbed, n))"
   ]
  },
  {
   "cell_type": "code",
   "execution_count": 22,
   "id": "9a24e843",
   "metadata": {},
   "outputs": [],
   "source": [
    "#time complexity=O(n)...As single loop is used only\n",
    "#space complexity=O(1)-->no space is required"
   ]
  },
  {
   "cell_type": "markdown",
   "id": "63f98b8b",
   "metadata": {},
   "source": [
    "Question 5\n",
    "Given an integer array nums, find three numbers whose product is maximum and return the maximum product.\n",
    "\n",
    "Example 1:\n",
    "Input: nums = [1,2,3]\n",
    "Output: 6"
   ]
  },
  {
   "cell_type": "code",
   "execution_count": 28,
   "id": "a5c3fa28",
   "metadata": {},
   "outputs": [],
   "source": [
    "def max_product(nums):\n",
    "    nums.sort()\n",
    "    return max((nums[-1]*nums[-2]*nums[-3]),(nums[0]*nums[1]*nums[-1]))\n",
    "    "
   ]
  },
  {
   "cell_type": "code",
   "execution_count": 30,
   "id": "11d018f9",
   "metadata": {},
   "outputs": [
    {
     "data": {
      "text/plain": [
       "50"
      ]
     },
     "execution_count": 30,
     "metadata": {},
     "output_type": "execute_result"
    }
   ],
   "source": [
    "max_product([-1,-5,-2,4,5])#-5,-2,-1,4,5"
   ]
  },
  {
   "cell_type": "code",
   "execution_count": 31,
   "id": "5014e1ed",
   "metadata": {},
   "outputs": [],
   "source": [
    "#time complexity=O(logn)...As sort is used only\n",
    "#space complexity=O(1)-->no space is required\n"
   ]
  },
  {
   "cell_type": "markdown",
   "id": "36153df3",
   "metadata": {},
   "source": [
    "Question 6\n",
    "Given an array of integers nums which is sorted in ascending order, and an integer target,\n",
    "write a function to search target in nums. If target exists, then return its index. Otherwise,\n",
    "return -1.\n",
    "\n",
    "You must write an algorithm with O(log n) runtime complexity.\n",
    "\n",
    "Input: nums = [-1,0,3,5,9,12], target = 9\n",
    "Output: 4\n",
    "\n",
    "Explanation: 9 exists in nums and its index is 4"
   ]
  },
  {
   "cell_type": "code",
   "execution_count": 40,
   "id": "351cd5b5",
   "metadata": {},
   "outputs": [],
   "source": [
    "def bin_search(nums,target):\n",
    "    l,r=0,len(nums)-1\n",
    "    \n",
    "    while(l<r):\n",
    "        mid=l+(r-l)//2\n",
    "        \n",
    "        if(nums[mid]==target):\n",
    "            return mid\n",
    "        elif(nums[mid]<target):\n",
    "            l=mid+1\n",
    "        elif(nums[mid]>target):\n",
    "            r=mid-1\n",
    "        \n",
    "    return -1"
   ]
  },
  {
   "cell_type": "code",
   "execution_count": 41,
   "id": "09bbf80f",
   "metadata": {},
   "outputs": [
    {
     "data": {
      "text/plain": [
       "2"
      ]
     },
     "execution_count": 41,
     "metadata": {},
     "output_type": "execute_result"
    }
   ],
   "source": [
    "bin_search([-1,0,3,5,9,12],3)"
   ]
  },
  {
   "cell_type": "code",
   "execution_count": 42,
   "id": "5e6f1b71",
   "metadata": {},
   "outputs": [],
   "source": [
    "#time complexity=O(logn)...As each time searching array will get half \n",
    "#space complexity=O(1)-->no space is required\n"
   ]
  },
  {
   "cell_type": "markdown",
   "id": "4cffe05e",
   "metadata": {},
   "source": [
    "Question 7\n",
    "An array is monotonic if it is either monotone increasing or monotone decreasing.\n",
    "\n",
    "An array nums is monotone increasing if for all i <= j, nums[i] <= nums[j]. An array nums is\n",
    "monotone decreasing if for all i <= j, nums[i] >= nums[j].\n",
    "\n",
    "Given an integer array nums, return true if the given array is monotonic, or false otherwise.\n",
    "\n",
    "Example 1:\n",
    "Input: nums = [1,2,2,3]\n",
    "Output: true"
   ]
  },
  {
   "cell_type": "code",
   "execution_count": 47,
   "id": "52e52159",
   "metadata": {},
   "outputs": [],
   "source": [
    "def montonic(nums):\n",
    "    is_inc=True\n",
    "    is_dec=True\n",
    "    for i in range(1,len(nums)):\n",
    "        if nums[i]<nums[i-1]:\n",
    "            is_inc=False\n",
    "        if nums[i]>nums[i-1]:\n",
    "            is_dec=False\n",
    "    return is_dec or is_inc"
   ]
  },
  {
   "cell_type": "code",
   "execution_count": 51,
   "id": "45a60dfc",
   "metadata": {},
   "outputs": [
    {
     "data": {
      "text/plain": [
       "True"
      ]
     },
     "execution_count": 51,
     "metadata": {},
     "output_type": "execute_result"
    }
   ],
   "source": [
    "montonic([1,2,2,9])"
   ]
  },
  {
   "cell_type": "code",
   "execution_count": 49,
   "id": "af1ca6be",
   "metadata": {},
   "outputs": [],
   "source": [
    "#time complexity=O(n)...As we traverse one time in loop\n",
    "#space complexity=O(1)-->no space is required as we added 2 constant flags only"
   ]
  },
  {
   "cell_type": "markdown",
   "id": "48578973",
   "metadata": {},
   "source": [
    "Question 8\n",
    "You are given an integer array nums and an integer k.\n",
    "\n",
    "In one operation, you can choose any index i where 0 <= i < nums.length and change nums[i] to nums[i] + x where x is an integer from the range [-k, k]. You can apply this operation at most once for each index i.\n",
    "\n",
    "The score of nums is the difference between the maximum and minimum elements in nums.\n",
    "\n",
    "Return the minimum score of nums after applying the mentioned operation at most once for each index in it.\n",
    "\n",
    "Example 1:\n",
    "Input: nums = [1], k = 0\n",
    "Output: 0\n",
    "\n",
    "Explanation: The score is max(nums) - min(nums) = 1 - 1 = 0."
   ]
  },
  {
   "cell_type": "code",
   "execution_count": 52,
   "id": "b322a14a",
   "metadata": {},
   "outputs": [],
   "source": [
    "def minimumScore(nums, k):\n",
    "    minNum = min(nums)\n",
    "    maxNum = max(nums)\n",
    "    \n",
    "    s=0\n",
    "    if minNum + k >= maxNum - k:\n",
    "        s= maxNum - k\n",
    "    else:\n",
    "        s= minNum + k\n",
    "    k=maxNum-minNum\n",
    "    if(k<s):\n",
    "        return k\n",
    "    else:\n",
    "        return s"
   ]
  },
  {
   "cell_type": "code",
   "execution_count": 54,
   "id": "49235e14",
   "metadata": {},
   "outputs": [
    {
     "data": {
      "text/plain": [
       "5"
      ]
     },
     "execution_count": 54,
     "metadata": {},
     "output_type": "execute_result"
    }
   ],
   "source": [
    "minimumScore([4,7,10,2],5)"
   ]
  },
  {
   "cell_type": "markdown",
   "id": "1e143878",
   "metadata": {},
   "source": [
    "The time complexity of the solution is O(n), where n is the length of the input array nums. This is because we need to iterate through the array once to find the minimum and maximum elements.\n",
    "\n",
    "The space complexity is O(1) since we are using a constant amount of additional space to store the minimum and maximum elements, minNum and maxNum, respectively. The space required does not grow with the input size."
   ]
  },
  {
   "cell_type": "code",
   "execution_count": null,
   "id": "28305171",
   "metadata": {},
   "outputs": [],
   "source": []
  }
 ],
 "metadata": {
  "kernelspec": {
   "display_name": "Python 3 (ipykernel)",
   "language": "python",
   "name": "python3"
  },
  "language_info": {
   "codemirror_mode": {
    "name": "ipython",
    "version": 3
   },
   "file_extension": ".py",
   "mimetype": "text/x-python",
   "name": "python",
   "nbconvert_exporter": "python",
   "pygments_lexer": "ipython3",
   "version": "3.10.9"
  }
 },
 "nbformat": 4,
 "nbformat_minor": 5
}
