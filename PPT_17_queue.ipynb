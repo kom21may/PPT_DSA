{
 "cells": [
  {
   "cell_type": "markdown",
   "id": "26e0fb31",
   "metadata": {},
   "source": [
    "<aside>\n",
    "💡 **Question 1**\n",
    "\n",
    "Given a string `s`, *find the first non-repeating character in it and return its index*. If it does not exist, return `-1`.\n",
    "\n",
    "**Example 1:**\n",
    "\n",
    "```\n",
    "Input: s = \"leetcode\"\n",
    "Output: 0\n",
    "\n",
    "```\n",
    "\n",
    "**Example 2:**\n",
    "\n",
    "```\n",
    "Input: s = \"loveleetcode\"\n",
    "Output: 2\n",
    "\n",
    "```\n",
    "\n",
    "**Example 3:**\n",
    "\n",
    "</aside>"
   ]
  },
  {
   "cell_type": "code",
   "execution_count": 1,
   "id": "ac64a6fe",
   "metadata": {},
   "outputs": [],
   "source": [
    "def nonrep(s):\n",
    "    char_count={}\n",
    "    for char in s:\n",
    "        char_count[char]=char_count.get(char,0)+1\n",
    "    for i,char in enumerate(char_count):\n",
    "        if char_count[char]==1:\n",
    "            return i\n",
    "    return -1"
   ]
  },
  {
   "cell_type": "code",
   "execution_count": 2,
   "id": "808fe7a4",
   "metadata": {},
   "outputs": [
    {
     "data": {
      "text/plain": [
       "0"
      ]
     },
     "execution_count": 2,
     "metadata": {},
     "output_type": "execute_result"
    }
   ],
   "source": [
    "nonrep('leetcode')"
   ]
  },
  {
   "cell_type": "code",
   "execution_count": 3,
   "id": "ff558abc",
   "metadata": {},
   "outputs": [
    {
     "data": {
      "text/plain": [
       "-1"
      ]
     },
     "execution_count": 3,
     "metadata": {},
     "output_type": "execute_result"
    }
   ],
   "source": [
    "nonrep('aabb')"
   ]
  },
  {
   "cell_type": "code",
   "execution_count": 4,
   "id": "6aad2129",
   "metadata": {},
   "outputs": [
    {
     "data": {
      "text/plain": [
       "2"
      ]
     },
     "execution_count": 4,
     "metadata": {},
     "output_type": "execute_result"
    }
   ],
   "source": [
    "nonrep('loveleetcode')"
   ]
  },
  {
   "cell_type": "markdown",
   "id": "fbb02cd4",
   "metadata": {},
   "source": [
    "Time complexity: O(n), where n is the length of the string. We iterate over the string twice, but the second iteration is done only for characters with a count of 1."
   ]
  },
  {
   "cell_type": "markdown",
   "id": "d0d1d368",
   "metadata": {},
   "source": [
    "<aside>\n",
    "💡 **Question 2**\n",
    "\n",
    "Given a **circular integer array** `nums` of length `n`, return *the maximum possible sum of a non-empty **subarray** of* `nums`.\n",
    "\n",
    "A **circular array** means the end of the array connects to the beginning of the array. Formally, the next element of `nums[i]` is `nums[(i + 1) % n]` and the previous element of `nums[i]` is `nums[(i - 1 + n) % n]`.\n",
    "\n",
    "A **subarray** may only include each element of the fixed buffer `nums` at most once. Formally, for a subarray `nums[i], nums[i + 1], ..., nums[j]`, there does not exist `i <= k1`, `k2 <= j` with `k1 % n == k2 % n`.\n",
    "\n",
    "**Example 1:**\n",
    "\n",
    "```\n",
    "Input: nums = [1,-2,3,-2]\n",
    "Output: 3\n",
    "Explanation: Subarray [3] has maximum sum 3.\n",
    "\n",
    "```\n",
    "\n",
    "**Example 2:**\n",
    "\n",
    "</aside>"
   ]
  },
  {
   "cell_type": "code",
   "execution_count": 5,
   "id": "fe257701",
   "metadata": {},
   "outputs": [
    {
     "name": "stdout",
     "output_type": "stream",
     "text": [
      "3\n"
     ]
    }
   ],
   "source": [
    "def maxSubarraySumCircular(nums):\n",
    "    # Kadane's algorithm to find maximum subarray sum\n",
    "    def kadane(nums):\n",
    "        max_sum = float('-inf')\n",
    "        curr_sum = 0\n",
    "        for num in nums:\n",
    "            curr_sum = max(num, curr_sum + num)\n",
    "            max_sum = max(max_sum, curr_sum)\n",
    "        return max_sum\n",
    "    \n",
    "    # Case 1: Maximum subarray sum is within the circular array\n",
    "    max_sum1 = kadane(nums)\n",
    "    \n",
    "    # Case 2: Maximum subarray sum is formed by wrapping around the circular array\n",
    "    # In this case, the maximum subarray sum is the total sum of the array minus the minimum subarray sum\n",
    "    total_sum = sum(nums)\n",
    "    nums_negated = [-num for num in nums]  # Negate the numbers to find minimum subarray sum\n",
    "    max_sum2 = total_sum + kadane(nums_negated)\n",
    "    \n",
    "    # Return the maximum of the two cases\n",
    "    return max(max_sum1, max_sum2)\n",
    "\n",
    "# Test case\n",
    "nums = [1, -2, 3, -2]\n",
    "print(maxSubarraySumCircular(nums))"
   ]
  },
  {
   "cell_type": "markdown",
   "id": "de29b855",
   "metadata": {},
   "source": [
    "Time complexity: O(n)\n",
    "Space complexity: O(1)"
   ]
  },
  {
   "cell_type": "markdown",
   "id": "e61b6264",
   "metadata": {},
   "source": [
    "<aside>\n",
    "💡 **Question 3**\n",
    "\n",
    "The school cafeteria offers circular and square sandwiches at lunch break, referred to by numbers `0` and `1` respectively. All students stand in a queue. Each student either prefers square or circular sandwiches.\n",
    "\n",
    "The number of sandwiches in the cafeteria is equal to the number of students. The sandwiches are placed in a **stack**. At each step:\n",
    "\n",
    "- If the student at the front of the queue **prefers** the sandwich on the top of the stack, they will **take it** and leave the queue.\n",
    "- Otherwise, they will **leave it** and go to the queue's end.\n",
    "\n",
    "This continues until none of the queue students want to take the top sandwich and are thus unable to eat.\n",
    "\n",
    "You are given two integer arrays `students` and `sandwiches` where `sandwiches[i]` is the type of the `ith` sandwich in the stack (`i = 0` is the top of the stack) and `students[j]` is the preference of the `jth` student in the initial queue (`j = 0` is the front of the queue). Return *the number of students that are unable to eat.*\n",
    "\n",
    "**Example 1:**\n",
    "\n",
    "```\n",
    "Input: students = [1,1,0,0], sandwiches = [0,1,0,1]\n",
    "Output: 0\n",
    "Explanation:\n",
    "- Front student leaves the top sandwich and returns to the end of the line making students = [1,0,0,1].\n",
    "- Front student leaves the top sandwich and returns to the end of the line making students = [0,0,1,1].\n",
    "- Front student takes the top sandwich and leaves the line making students = [0,1,1] and sandwiches = [1,0,1].\n",
    "- Front student leaves the top sandwich and returns to the end of the line making students = [1,1,0].\n",
    "- Front student takes the top sandwich and leaves the line making students = [1,0] and sandwiches = [0,1].\n",
    "- Front student leaves the top sandwich and returns to the end of the line making students = [0,1].\n",
    "- Front student takes the top sandwich and leaves the line making students = [1] and sandwiches = [1].\n",
    "- Front student takes the top sandwich and leaves the line making students = [] and sandwiches = [].\n",
    "Hence all students are able to eat.\n",
    "\n",
    "```\n",
    "\n",
    "**Example 2:**\n",
    "\n",
    "</aside>"
   ]
  },
  {
   "cell_type": "code",
   "execution_count": 6,
   "id": "438a6bb3",
   "metadata": {},
   "outputs": [
    {
     "name": "stdout",
     "output_type": "stream",
     "text": [
      "0\n"
     ]
    }
   ],
   "source": [
    "def countStudents(students, sandwiches):\n",
    "    count = [0, 0]  # count[0]: square sandwiches, count[1]: circular sandwiches\n",
    "    for student in students:\n",
    "        count[student] += 1\n",
    "    \n",
    "    for sandwich in sandwiches:\n",
    "        if count[sandwich] == 0:\n",
    "            break\n",
    "        count[sandwich] -= 1\n",
    "    \n",
    "    return sum(count)\n",
    "\n",
    "# Test case\n",
    "students = [1, 1, 0, 0]\n",
    "sandwiches = [0, 1, 0, 1]\n",
    "print(countStudents(students, sandwiches))"
   ]
  },
  {
   "cell_type": "markdown",
   "id": "63566522",
   "metadata": {},
   "source": [
    "Time complexity: O(n)\n",
    "Space complexity: O(1)"
   ]
  },
  {
   "cell_type": "markdown",
   "id": "54246920",
   "metadata": {},
   "source": [
    "<aside>\n",
    "💡 **Question 4**\n",
    "\n",
    "You have a `RecentCounter` class which counts the number of recent requests within a certain time frame.\n",
    "\n",
    "Implement the `RecentCounter` class:\n",
    "\n",
    "- `RecentCounter()` Initializes the counter with zero recent requests.\n",
    "- `int ping(int t)` Adds a new request at time `t`, where `t` represents some time in milliseconds, and returns the number of requests that has happened in the past `3000` milliseconds (including the new request). Specifically, return the number of requests that have happened in the inclusive range `[t - 3000, t]`.\n",
    "\n",
    "It is **guaranteed** that every call to `ping` uses a strictly larger value of `t` than the previous call.\n",
    "\n",
    "**Example 1:**\n",
    "\n",
    "</aside>"
   ]
  },
  {
   "cell_type": "code",
   "execution_count": 7,
   "id": "be147fc3",
   "metadata": {},
   "outputs": [
    {
     "name": "stdout",
     "output_type": "stream",
     "text": [
      "1\n",
      "2\n",
      "3\n",
      "3\n"
     ]
    }
   ],
   "source": [
    "class RecentCounter:\n",
    "    def __init__(self):\n",
    "        self.requests = []\n",
    "\n",
    "    def ping(self, t):\n",
    "        self.requests.append(t)\n",
    "        while self.requests and self.requests[0] < t - 3000:\n",
    "            self.requests.pop(0)\n",
    "        return len(self.requests)\n",
    "\n",
    "# Test case\n",
    "recentCounter = RecentCounter()\n",
    "print(recentCounter.ping(1))\n",
    "print(recentCounter.ping(100))\n",
    "print(recentCounter.ping(3001))\n",
    "print(recentCounter.ping(3002))"
   ]
  },
  {
   "cell_type": "markdown",
   "id": "fc8c40c0",
   "metadata": {},
   "source": [
    "Time complexity: O(n) (where n is the number of requests within the time frame)\n",
    "Space complexity: O(n)\n",
    "\n"
   ]
  },
  {
   "cell_type": "markdown",
   "id": "eccfbed8",
   "metadata": {},
   "source": [
    "<aside>\n",
    "💡 **Question 5**\n",
    "\n",
    "There are `n` friends that are playing a game. The friends are sitting in a circle and are numbered from `1` to `n` in **clockwise order**. More formally, moving clockwise from the `ith` friend brings you to the `(i+1)th` friend for `1 <= i < n`, and moving clockwise from the `nth` friend brings you to the `1st` friend.\n",
    "\n",
    "The rules of the game are as follows:\n",
    "\n",
    "1. **Start** at the `1st` friend.\n",
    "2. Count the next `k` friends in the clockwise direction **including** the friend you started at. The counting wraps around the circle and may count some friends more than once.\n",
    "3. The last friend you counted leaves the circle and loses the game.\n",
    "4. If there is still more than one friend in the circle, go back to step `2` **starting** from the friend **immediately clockwise** of the friend who just lost and repeat.\n",
    "5. Else, the last friend in the circle wins the game.\n",
    "\n",
    "Given the number of friends, `n`, and an integer `k`, return *the winner of the game*.\n",
    "\n",
    "**Example 1:**\n",
    "\n",
    "!https://assets.leetcode.com/uploads/2021/03/25/ic234-q2-ex11.png\n",
    "\n",
    "```\n",
    "Input: n = 5, k = 2\n",
    "Output: 3\n",
    "Explanation: Here are the steps of the game:\n",
    "1) Start at friend 1.\n",
    "2) Count 2 friends clockwise, which are friends 1 and 2.\n",
    "3) Friend 2 leaves the circle. Next start is friend 3.\n",
    "4) Count 2 friends clockwise, which are friends 3 and 4.\n",
    "5) Friend 4 leaves the circle. Next start is friend 5.\n",
    "6) Count 2 friends clockwise, which are friends 5 and 1.\n",
    "7) Friend 1 leaves the circle. Next start is friend 3.\n",
    "8) Count 2 friends clockwise, which are friends 3 and 5.\n",
    "9) Friend 5 leaves the circle. Only friend 3 is left, so they are the winner.\n",
    "```\n",
    "\n",
    "**Example 2:**\n",
    "\n",
    "</aside>"
   ]
  },
  {
   "cell_type": "code",
   "execution_count": 8,
   "id": "113750f0",
   "metadata": {},
   "outputs": [
    {
     "name": "stdout",
     "output_type": "stream",
     "text": [
      "3\n"
     ]
    }
   ],
   "source": [
    "def findTheWinner(n, k):\n",
    "    friends = list(range(1, n+1))\n",
    "    idx = 0\n",
    "    while len(friends) > 1:\n",
    "        idx = (idx + k - 1) % len(friends)\n",
    "        friends.pop(idx)\n",
    "    return friends[0]\n",
    "\n",
    "# Test case\n",
    "n = 5\n",
    "k = 2\n",
    "print(findTheWinner(n, k))"
   ]
  },
  {
   "cell_type": "markdown",
   "id": "861881ac",
   "metadata": {},
   "source": [
    "Time complexity: O(n)\n",
    "Space complexity: O(n)\n",
    "\n"
   ]
  },
  {
   "cell_type": "markdown",
   "id": "a6c1c28f",
   "metadata": {},
   "source": [
    "<aside>\n",
    "💡 **Question 6**\n",
    "\n",
    "You are given an integer array `deck`. There is a deck of cards where every card has a unique integer. The integer on the `ith` card is `deck[i]`.\n",
    "\n",
    "You can order the deck in any order you want. Initially, all the cards start face down (unrevealed) in one deck.\n",
    "\n",
    "You will do the following steps repeatedly until all cards are revealed:\n",
    "\n",
    "1. Take the top card of the deck, reveal it, and take it out of the deck.\n",
    "2. If there are still cards in the deck then put the next top card of the deck at the bottom of the deck.\n",
    "3. If there are still unrevealed cards, go back to step 1. Otherwise, stop.\n",
    "\n",
    "Return *an ordering of the deck that would reveal the cards in increasing order*.\n",
    "\n",
    "**Note** that the first entry in the answer is considered to be the top of the deck.\n",
    "\n",
    "**Example 1:**\n",
    "\n",
    "```\n",
    "Input: deck = [17,13,11,2,3,5,7]\n",
    "Output: [2,13,3,11,5,17,7]\n",
    "Explanation:\n",
    "We get the deck in the order [17,13,11,2,3,5,7] (this order does not matter), and reorder it.\n",
    "After reordering, the deck starts as [2,13,3,11,5,17,7], where 2 is the top of the deck.\n",
    "We reveal 2, and move 13 to the bottom.  The deck is now [3,11,5,17,7,13].\n",
    "We reveal 3, and move 11 to the bottom.  The deck is now [5,17,7,13,11].\n",
    "We reveal 5, and move 17 to the bottom.  The deck is now [7,13,11,17].\n",
    "We reveal 7, and move 13 to the bottom.  The deck is now [11,17,13].\n",
    "We reveal 11, and move 17 to the bottom.  The deck is now [13,17].\n",
    "We reveal 13, and move 17 to the bottom.  The deck is now [17].\n",
    "We reveal 17.\n",
    "Since all the cards revealed are in increasing order, the answer is correct.\n",
    "\n",
    "```\n",
    "\n",
    "**Example 2:**\n",
    "\n",
    "</aside>"
   ]
  },
  {
   "cell_type": "code",
   "execution_count": 10,
   "id": "512c8d72",
   "metadata": {},
   "outputs": [
    {
     "name": "stdout",
     "output_type": "stream",
     "text": [
      "[2, 13, 3, 11, 5, 17, 7]\n"
     ]
    }
   ],
   "source": [
    "import collections\n",
    "\n",
    "def deckRevealedIncreasing(deck):\n",
    "    n = len(deck)\n",
    "    deck.sort()  # Sort the deck in increasing order\n",
    "    result = [0] * n  # Initialize the result list\n",
    "    queue = collections.deque(range(n))  # Create a queue of indices\n",
    "    \n",
    "    for card in deck:\n",
    "        result[queue.popleft()] = card  # Take the first index from the queue and assign the card value\n",
    "        if queue:\n",
    "            queue.append(queue.popleft())  # Move the first index to the end of the queue\n",
    "    \n",
    "    return result\n",
    "\n",
    "# Test case\n",
    "deck = [17, 13, 11, 2, 3, 5, 7]\n",
    "print(deckRevealedIncreasing(deck))\n"
   ]
  },
  {
   "cell_type": "markdown",
   "id": "79fed146",
   "metadata": {},
   "source": [
    "the time complexity is O(n log n) and the space complexity is O(n)."
   ]
  },
  {
   "cell_type": "code",
   "execution_count": 11,
   "id": "42f4d4e1",
   "metadata": {},
   "outputs": [],
   "source": [
    "from collections import deque\n",
    "\n",
    "class FrontMiddleBackQueue:\n",
    "    def __init__(self):\n",
    "        self.front = deque()\n",
    "        self.back = deque()\n",
    "\n",
    "    def pushFront(self, val: int) -> None:\n",
    "        self.front.appendleft(val)\n",
    "        self._balance()\n",
    "\n",
    "    def pushMiddle(self, val: int) -> None:\n",
    "        if len(self.front) > len(self.back):\n",
    "            self.back.appendleft(self.front.pop())\n",
    "        self.front.append(val)\n",
    "\n",
    "    def pushBack(self, val: int) -> None:\n",
    "        self.back.append(val)\n",
    "        self._balance()\n",
    "\n",
    "    def popFront(self) -> int:\n",
    "        if not self.front and not self.back:\n",
    "            return -1\n",
    "        if len(self.front) > 0:\n",
    "            val = self.front.popleft()\n",
    "        else:\n",
    "            val = self.back.popleft()\n",
    "        self._balance()\n",
    "        return val\n",
    "\n",
    "    def popMiddle(self) -> int:\n",
    "        if not self.front and not self.back:\n",
    "            return -1\n",
    "        if len(self.front) > len(self.back):\n",
    "            val = self.front.pop()\n",
    "        else:\n",
    "            val = self.back.popleft()\n",
    "        self._balance()\n",
    "        return val\n",
    "\n",
    "    def popBack(self) -> int:\n",
    "        if not self.front and not self.back:\n",
    "            return -1\n",
    "        if len(self.back) > 0:\n",
    "            val = self.back.pop()\n",
    "        else:\n",
    "            val = self.front.pop()\n",
    "        self._balance()\n",
    "        return val\n",
    "\n",
    "    def _balance(self) -> None:\n",
    "        if len(self.front) - len(self.back) > 1:\n",
    "            self.back.appendleft(self.front.pop())\n",
    "        elif len(self.back) - len(self.front) > 0:\n",
    "            self.front.append(self.back.popleft())\n"
   ]
  },
  {
   "cell_type": "markdown",
   "id": "266f0628",
   "metadata": {},
   "source": [
    "Time Complexity:\n",
    "\n",
    "pushFront, pushMiddle, pushBack, popFront, popMiddle, and popBack operations all have a time complexity of O(1) because deque operations have constant time complexity.\n",
    "Space Complexity:\n",
    "\n",
    "The space complexity is O(n), where n is the number of elements in the queue. Both self.front and self.back deques can have at most n//2 elements each, so the overall space complexity is O(n)."
   ]
  },
  {
   "cell_type": "code",
   "execution_count": 16,
   "id": "38e86127",
   "metadata": {},
   "outputs": [
    {
     "data": {
      "text/plain": [
       "-1"
      ]
     },
     "execution_count": 16,
     "metadata": {},
     "output_type": "execute_result"
    }
   ],
   "source": [
    "q=FrontMiddleBackQueue()\n",
    "q.pushFront(1)  \n",
    "q.pushBack(2)  \n",
    "q.pushMiddle(3)  # [1,3, 2]\n",
    "q.pushMiddle(4)  # [1,4, 3, 2]\n",
    "q.popFront()    # return 1 -> [4, 3, 2]\n",
    "q.popMiddle()   # return 3 -> [4, 2]\n",
    "q.popMiddle()   # return 4 -> [2]\n",
    "q.popBack()     # return 2 -> []\n",
    "q.popFront()    # return -1 -> [] (The queue is empty)"
   ]
  },
  {
   "cell_type": "markdown",
   "id": "9626c53a",
   "metadata": {},
   "source": [
    "<aside>\n",
    "💡 **Question 8**\n",
    "\n",
    "For a stream of integers, implement a data structure that checks if the last `k` integers parsed in the stream are **equal** to `value`.\n",
    "\n",
    "Implement the **DataStream** class:\n",
    "\n",
    "- `DataStream(int value, int k)` Initializes the object with an empty integer stream and the two integers `value` and `k`.\n",
    "- `boolean consec(int num)` Adds `num` to the stream of integers. Returns `true` if the last `k` integers are equal to `value`, and `false` otherwise. If there are less than `k` integers, the condition does not hold true, so returns `false`.\n",
    "\n",
    "**Example 1:**\n",
    "\n",
    "</aside>"
   ]
  },
  {
   "cell_type": "code",
   "execution_count": 17,
   "id": "8a33fe2c",
   "metadata": {},
   "outputs": [],
   "source": [
    "from collections import deque\n",
    "\n",
    "class DataStream:\n",
    "    def __init__(self, value: int, k: int):\n",
    "        self.stream = deque()\n",
    "        self.value = value\n",
    "        self.k = k\n",
    "\n",
    "    def consec(self, num: int) -> bool:\n",
    "        self.stream.append(num)\n",
    "        if len(self.stream) > self.k:\n",
    "            self.stream.popleft()\n",
    "        return list(self.stream) == [self.value] * self.k"
   ]
  },
  {
   "cell_type": "markdown",
   "id": "a38d295a",
   "metadata": {},
   "source": [
    "Time Complexity:\n",
    "\n",
    "The consec function has a time complexity of O(k) because comparing the deque to the target value takes O(k) time.\n",
    "Space Complexity:\n",
    "\n",
    "The space complexity is O(k) because we use a deque to store the last k integers in the stream."
   ]
  },
  {
   "cell_type": "code",
   "execution_count": null,
   "id": "c41adf37",
   "metadata": {},
   "outputs": [],
   "source": []
  }
 ],
 "metadata": {
  "kernelspec": {
   "display_name": "Python 3.9 (tensorflow)",
   "language": "python",
   "name": "tensorflow"
  },
  "language_info": {
   "codemirror_mode": {
    "name": "ipython",
    "version": 3
   },
   "file_extension": ".py",
   "mimetype": "text/x-python",
   "name": "python",
   "nbconvert_exporter": "python",
   "pygments_lexer": "ipython3",
   "version": "3.9.15"
  }
 },
 "nbformat": 4,
 "nbformat_minor": 5
}
