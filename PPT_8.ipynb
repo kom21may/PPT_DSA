{
 "cells": [
  {
   "cell_type": "markdown",
   "id": "318c3ee3",
   "metadata": {},
   "source": [
    "<aside>\n",
    "💡 **Question 1**\n",
    "\n",
    "Given two strings s1 and s2, return *the lowest **ASCII** sum of deleted characters to make two strings equal*.\n",
    "\n",
    "**Example 1:**\n",
    "\n",
    "**Input:** s1 = \"sea\", s2 = \"eat\"\n",
    "\n",
    "**Output:** 231\n",
    "\n",
    "**Explanation:** Deleting \"s\" from \"sea\" adds the ASCII value of \"s\" (115) to the sum.\n",
    "\n",
    "Deleting \"t\" from \"eat\" adds 116 to the sum.\n",
    "\n",
    "At the end, both strings are equal, and 115 + 116 = 231 is the minimum sum possible to achieve this.\n",
    "\n",
    "</aside>"
   ]
  },
  {
   "cell_type": "code",
   "execution_count": 1,
   "id": "57fddcba",
   "metadata": {},
   "outputs": [],
   "source": [
    "def minimumDeleteSum(s1, s2):\n",
    "    sum1 = sum(ord(c) for c in s1)\n",
    "    sum2 = sum(ord(c) for c in s2)\n",
    "\n",
    "    m, n = len(s1), len(s2)\n",
    "    dp = [[0] * (n+1) for _ in range(m+1)]\n",
    "\n",
    "    for i in range(1, m+1):\n",
    "        for j in range(1, n+1):\n",
    "            if s1[i-1] == s2[j-1]:\n",
    "                dp[i][j] = dp[i-1][j-1]\n",
    "            else:\n",
    "                dp[i][j] = min(dp[i-1][j] + ord(s1[i-1]), dp[i][j-1] + ord(s2[j-1]))\n",
    "\n",
    "    return sum1 + sum2 - 2 * dp[m][n]"
   ]
  },
  {
   "cell_type": "markdown",
   "id": "32486bf5",
   "metadata": {},
   "source": [
    "Time Complexity: The algorithm uses dynamic programming to fill the dp array, which has dimensions of (m+1) x (n+1), where m and n are the lengths of the input strings s1 and s2, respectively. Filling each cell of dp requires constant time operations. Therefore, the time complexity of filling the dp array is O(m * n). The initial calculations of the cumulative ASCII sums of s1 and s2 also take O(m + n) time. Overall, the time complexity of the algorithm is O(m * n).\n",
    "\n",
    "Space Complexity: The algorithm uses a 2D array dp of dimensions (m+1) x (n+1) to store the intermediate results. Therefore, the space complexity is O(m * n) for the dp array. Additionally, the algorithm uses additional variables to store the cumulative ASCII sums of s1 and s2, which require O(1) space. Overall, the space complexity of the algorithm is O(m * n)."
   ]
  },
  {
   "cell_type": "markdown",
   "id": "e4ae20c7",
   "metadata": {},
   "source": [
    "<aside>\n",
    "💡 **Question 2**\n",
    "\n",
    "Given a string s containing only three types of characters: '(', ')' and '*', return true *if* s *is **valid***.\n",
    "\n",
    "The following rules define a **valid** string:\n",
    "\n",
    "- Any left parenthesis '(' must have a corresponding right parenthesis ')'.\n",
    "- Any right parenthesis ')' must have a corresponding left parenthesis '('.\n",
    "- Left parenthesis '(' must go before the corresponding right parenthesis ')'.\n",
    "- '*' could be treated as a single right parenthesis ')' or a single left parenthesis '(' or an empty string \"\".\n",
    "\n",
    "**Example 1:**\n",
    "\n",
    "**Input:** s = \"()\"\n",
    "\n",
    "**Output:**\n",
    "\n",
    "true\n",
    "\n",
    "</aside>"
   ]
  },
  {
   "cell_type": "code",
   "execution_count": 2,
   "id": "c1e4c080",
   "metadata": {},
   "outputs": [],
   "source": [
    "def isValid(s):\n",
    "    stack = []\n",
    "\n",
    "    for c in s:\n",
    "        if c == '(' or c == '*':\n",
    "            stack.append(c)\n",
    "        elif c == ')':\n",
    "            if stack and stack[-1] == '(':\n",
    "                stack.pop()\n",
    "            elif stack and stack[-1] == '*':\n",
    "                stack.pop()\n",
    "            else:\n",
    "                return False\n",
    "\n",
    "    while stack:\n",
    "        if stack[-1] == '(' or stack[-1] == '*':\n",
    "            stack.pop()\n",
    "        else:\n",
    "            return False\n",
    "\n",
    "    return True"
   ]
  },
  {
   "cell_type": "markdown",
   "id": "4c61db3a",
   "metadata": {},
   "source": [
    "The time and space complexity of the algorithm are as follows:\n",
    "\n",
    "Time Complexity: The algorithm iterates through each character in the string s once, performing constant time operations for each character. Therefore, the time complexity is O(n), where n is the length of the input string s.\n",
    "\n",
    "Space Complexity: The algorithm uses a stack to store opening parentheses '(' encountered in the string. In the worst case, if all characters are opening parentheses, the stack can grow to a maximum size of n. Therefore, the space complexity is O(n) in the worst case."
   ]
  },
  {
   "cell_type": "markdown",
   "id": "8d7d77db",
   "metadata": {},
   "source": [
    "<aside>\n",
    "💡 **Question 3**\n",
    "\n",
    "Given two strings word1 and word2, return *the minimum number of **steps** required to make* word1 *and* word2 *the same*.\n",
    "\n",
    "In one **step**, you can delete exactly one character in either string.\n",
    "\n",
    "**Example 1:**\n",
    "\n",
    "**Input:** word1 = \"sea\", word2 = \"eat\"\n",
    "\n",
    "**Output:** 2\n",
    "\n",
    "**Explanation:** You need one step to make \"sea\" to \"ea\" and another step to make \"eat\" to \"ea\".\n",
    "\n",
    "</aside>"
   ]
  },
  {
   "cell_type": "code",
   "execution_count": 3,
   "id": "9bf7c1d2",
   "metadata": {},
   "outputs": [],
   "source": [
    "def minSteps(word1, word2):\n",
    "    m, n = len(word1), len(word2)\n",
    "    dp = [[0] * (n+1) for _ in range(m+1)]\n",
    "\n",
    "    for i in range(1, m+1):\n",
    "        dp[i][0] = i\n",
    "\n",
    "    for j in range(1, n+1):\n",
    "        dp[0][j] = j\n",
    "\n",
    "    for i in range(1, m+1):\n",
    "        for j in range(1, n+1):\n",
    "            if word1[i-1] == word2[j-1]:\n",
    "                dp[i][j] = dp[i-1][j-1]\n",
    "            else:\n",
    "                dp[i][j] = min(dp[i-1][j] + 1, dp[i][j-1] + 1)\n",
    "\n",
    "    return dp[m][n]"
   ]
  },
  {
   "cell_type": "markdown",
   "id": "796b4c49",
   "metadata": {},
   "source": [
    "Time Complexity: The algorithm uses a nested loop to fill the dp array, which has dimensions of (m+1) x (n+1), where m and n are the lengths of the input strings word1 and word2, respectively. Filling each cell of dp requires constant time operations. Therefore, the time complexity of filling the dp array is O(m * n). Initializing the first row and first column of dp takes O(m + n) time. Overall, the time complexity of the algorithm is O(m * n).\n",
    "\n",
    "Space Complexity: The algorithm uses a 2D array dp of dimensions (m+1) x (n+1) to store the intermediate results. Therefore, the space complexity is O(m * n) for the dp array. Additionally, the algorithm uses a few additional variables that require O(1) space. Overall, the space complexity of the algorithm is O(m * n)."
   ]
  },
  {
   "cell_type": "markdown",
   "id": "f762a3f7",
   "metadata": {},
   "source": [
    "<aside>\n",
    "💡 **Question 4**\n",
    "\n",
    "You need to construct a binary tree from a string consisting of parenthesis and integers.\n",
    "\n",
    "The whole input represents a binary tree. It contains an integer followed by zero, one or two pairs of parenthesis. The integer represents the root's value and a pair of parenthesis contains a child binary tree with the same structure.\n",
    "You always start to construct the **left** child node of the parent first if it exists.\n",
    "\n",
    "</aside> **Input:** s = \"4(2(3)(1))(6(5))\"\n",
    "\n",
    "**Output:** [4,2,6,3,1,5]"
   ]
  },
  {
   "cell_type": "code",
   "execution_count": 8,
   "id": "83e0c3f4",
   "metadata": {},
   "outputs": [],
   "source": [
    "class TreeNode:\n",
    "    def __init__(self, val=0, left=None, right=None):\n",
    "        self.val = val\n",
    "        self.left = left\n",
    "        self.right = right\n",
    "\n",
    "def buildTree(s):\n",
    "    if not s:\n",
    "        return None\n",
    "\n",
    "    root_val = \"\"\n",
    "    i = 0\n",
    "    while i < len(s) and s[i] != '(':\n",
    "        root_val += s[i]\n",
    "        i += 1\n",
    "\n",
    "    root = TreeNode(int(root_val))\n",
    "\n",
    "    left_start = i + 1\n",
    "    left_end = findMatchingClosingParenthesis(s, left_start)\n",
    "    root.left = buildTree(s[left_start:left_end])\n",
    "\n",
    "    right_start = left_end + 2\n",
    "    right_end = len(s) - 1\n",
    "    root.right = buildTree(s[right_start:right_end])\n",
    "\n",
    "    return root\n",
    "\n",
    "def findMatchingClosingParenthesis(s, start):\n",
    "    count = 1\n",
    "    i = start\n",
    "    while i < len(s):\n",
    "        if s[i] == '(':\n",
    "            count += 1\n",
    "        elif s[i] == ')':\n",
    "            count -= 1\n",
    "\n",
    "        if count == 0:\n",
    "            return i\n",
    "\n",
    "        i += 1\n",
    "    return -1\n"
   ]
  },
  {
   "cell_type": "code",
   "execution_count": 9,
   "id": "2498cec5",
   "metadata": {},
   "outputs": [
    {
     "data": {
      "text/plain": [
       "<__main__.TreeNode at 0x107123370>"
      ]
     },
     "execution_count": 9,
     "metadata": {},
     "output_type": "execute_result"
    }
   ],
   "source": [
    "buildTree(\"4(2(3)(1))(6(5))\")"
   ]
  },
  {
   "cell_type": "markdown",
   "id": "de8001a9",
   "metadata": {},
   "source": [
    "<aside>\n",
    "💡 **Question 5**\n",
    "\n",
    "Given an array of characters chars, compress it using the following algorithm:\n",
    "\n",
    "Begin with an empty string s. For each group of **consecutive repeating characters** in chars:\n",
    "\n",
    "- If the group's length is 1, append the character to s.\n",
    "- Otherwise, append the character followed by the group's length.\n",
    "\n",
    "The compressed string s **should not be returned separately**, but instead, be stored **in the input character array chars**. Note that group lengths that are 10 or longer will be split into multiple characters in chars.\n",
    "\n",
    "After you are done **modifying the input array,** return *the new length of the array*.\n",
    "\n",
    "You must write an algorithm that uses only constant extra space.\n",
    "\n",
    "**Example 1:**\n",
    "\n",
    "**Input:** chars = [\"a\",\"a\",\"b\",\"b\",\"c\",\"c\",\"c\"]\n",
    "\n",
    "**Output:** Return 6, and the first 6 characters of the input array should be: [\"a\",\"2\",\"b\",\"2\",\"c\",\"3\"]\n",
    "\n",
    "**Explanation:**\n",
    "\n",
    "The groups are \"aa\", \"bb\", and \"ccc\". This compresses to \"a2b2c3\".\n",
    "\n",
    "</aside>"
   ]
  },
  {
   "cell_type": "code",
   "execution_count": 10,
   "id": "752cdfbe",
   "metadata": {},
   "outputs": [],
   "source": [
    "def compress(chars):\n",
    "    read = write = 0\n",
    "    count = 0\n",
    "\n",
    "    while read < len(chars):\n",
    "        count += 1\n",
    "\n",
    "        if read + 1 == len(chars) or chars[read] != chars[read + 1]:\n",
    "            chars[write] = chars[read]\n",
    "            write += 1\n",
    "\n",
    "            if count > 1:\n",
    "                count_str = str(count)\n",
    "                for digit in count_str:\n",
    "                    chars[write] = digit\n",
    "                    write += 1\n",
    "\n",
    "            count = 0\n",
    "\n",
    "        read += 1\n",
    "\n",
    "    return write"
   ]
  },
  {
   "cell_type": "code",
   "execution_count": 11,
   "id": "47c3553d",
   "metadata": {},
   "outputs": [
    {
     "data": {
      "text/plain": [
       "6"
      ]
     },
     "execution_count": 11,
     "metadata": {},
     "output_type": "execute_result"
    }
   ],
   "source": [
    "compress([\"a\", \"a\", \"b\", \"b\", \"c\", \"c\", \"c\"])"
   ]
  },
  {
   "cell_type": "markdown",
   "id": "f6d5051f",
   "metadata": {},
   "source": [
    "the time and space complexity of the algorithm are as follows:\n",
    "\n",
    "Time Complexity: The algorithm performs a single pass over the input array chars, and for each character, it performs constant time operations. Therefore, the time complexity of the algorithm is O(n), where n is the length of the input array chars.\n",
    "\n",
    "Space Complexity: The algorithm uses only a constant amount of extra space. It modifies the input array chars in-place without using any additional data structures that scale with the input size. Hence, the space complexity is O(1)."
   ]
  },
  {
   "cell_type": "markdown",
   "id": "9e96acc1",
   "metadata": {},
   "source": [
    "<aside>\n",
    "💡 **Question 6**\n",
    "\n",
    "Given two strings s and p, return *an array of all the start indices of* p*'s anagrams in* s. You may return the answer in **any order**.\n",
    "\n",
    "An **Anagram** is a word or phrase formed by rearranging the letters of a different word or phrase, typically using all the original letters exactly once.\n",
    "\n",
    "**Example 1:**\n",
    "\n",
    "**Input:** s = \"cbaebabacd\", p = \"abc\"\n",
    "\n",
    "**Output:** [0,6]\n",
    "\n",
    "**Explanation:**\n",
    "\n",
    "The substring with start index = 0 is \"cba\", which is an anagram of \"abc\".\n",
    "\n",
    "The substring with start index = 6 is \"bac\", which is an anagram of \"abc\".\n",
    "\n",
    "</aside>"
   ]
  },
  {
   "cell_type": "code",
   "execution_count": 12,
   "id": "0660c89c",
   "metadata": {},
   "outputs": [],
   "source": [
    "from collections import Counter\n",
    "\n",
    "def findAnagrams(s, p):\n",
    "    result = []\n",
    "    p_count = Counter(p)\n",
    "    s_count = Counter(s[:len(p)])\n",
    "\n",
    "    left = 0\n",
    "    right = len(p)\n",
    "\n",
    "    while right <= len(s):\n",
    "        if p_count == s_count:\n",
    "            result.append(left)\n",
    "\n",
    "        s_count[s[left]] -= 1\n",
    "        if s_count[s[left]] == 0:\n",
    "            del s_count[s[left]]\n",
    "\n",
    "        if right < len(s):\n",
    "            s_count[s[right]] += 1\n",
    "\n",
    "        left += 1\n",
    "        right += 1\n",
    "\n",
    "    return result\n",
    "\n"
   ]
  },
  {
   "cell_type": "code",
   "execution_count": 13,
   "id": "ccdb5ab6",
   "metadata": {},
   "outputs": [
    {
     "data": {
      "text/plain": [
       "[0, 6]"
      ]
     },
     "execution_count": 13,
     "metadata": {},
     "output_type": "execute_result"
    }
   ],
   "source": [
    "findAnagrams(\"cbaebabacd\", \"abc\")"
   ]
  },
  {
   "cell_type": "markdown",
   "id": "ce824013",
   "metadata": {},
   "source": [
    "The algorithm uses the Counter class from the collections module to efficiently count the characters in strings p and s. It has a linear time complexity and a constant space complexity, making it efficient for most cases."
   ]
  },
  {
   "cell_type": "markdown",
   "id": "70d8d542",
   "metadata": {},
   "source": [
    "<aside>\n",
    "💡 **Question 7**\n",
    "\n",
    "Given an encoded string, return its decoded string.\n",
    "\n",
    "The encoding rule is: k[encoded_string], where the encoded_string inside the square brackets is being repeated exactly k times. Note that k is guaranteed to be a positive integer.\n",
    "\n",
    "You may assume that the input string is always valid; there are no extra white spaces, square brackets are well-formed, etc. Furthermore, you may assume that the original data does not contain any digits and that digits are only for those repeat numbers, k. For example, there will not be input like 3a or 2[4].\n",
    "\n",
    "The test cases are generated so that the length of the output will never exceed 105.\n",
    "\n",
    "**Example 1:**\n",
    "\n",
    "**Input:** s = \"3[a]2[bc]\"\n",
    "\n",
    "**Output:** \"aaabcbc\"\n",
    "\n",
    "</aside>"
   ]
  },
  {
   "cell_type": "code",
   "execution_count": 15,
   "id": "b7573153",
   "metadata": {},
   "outputs": [],
   "source": [
    "def decodeString(s):\n",
    "    stack = []\n",
    "    current_str = \"\"\n",
    "    current_num = 0\n",
    "\n",
    "    for char in s:\n",
    "        if char.isdigit():\n",
    "            current_num = current_num * 10 + int(char)\n",
    "        elif char == '[':\n",
    "            stack.append(current_str)\n",
    "            stack.append(current_num)\n",
    "            current_str = \"\"\n",
    "            current_num = 0\n",
    "        elif char == ']':\n",
    "            num = stack.pop()\n",
    "            prev_str = stack.pop()\n",
    "            current_str = prev_str + current_str * num\n",
    "        else:\n",
    "            current_str += char\n",
    "\n",
    "    return current_str"
   ]
  },
  {
   "cell_type": "code",
   "execution_count": 16,
   "id": "0017c874",
   "metadata": {},
   "outputs": [
    {
     "data": {
      "text/plain": [
       "'aaabcbc'"
      ]
     },
     "execution_count": 16,
     "metadata": {},
     "output_type": "execute_result"
    }
   ],
   "source": [
    "decodeString(\"3[a]2[bc]\")"
   ]
  },
  {
   "cell_type": "markdown",
   "id": "1faf23b2",
   "metadata": {},
   "source": [
    "<aside>\n",
    "💡 **Question 8**\n",
    "\n",
    "Given two strings s and goal, return true *if you can swap two letters in* s *so the result is equal to* goal*, otherwise, return* false*.*\n",
    "\n",
    "Swapping letters is defined as taking two indices i and j (0-indexed) such that i != j and swapping the characters at s[i] and s[j].\n",
    "\n",
    "- For example, swapping at indices 0 and 2 in \"abcd\" results in \"cbad\".\n",
    "\n",
    "**Example 1:**\n",
    "\n",
    "**Input:** s = \"ab\", goal = \"ba\"\n",
    "\n",
    "**Output:** true\n",
    "\n",
    "**Explanation:** You can swap s[0] = 'a' and s[1] = 'b' to get \"ba\", which is equal to goal.\n",
    "\n",
    "</aside>"
   ]
  },
  {
   "cell_type": "code",
   "execution_count": 17,
   "id": "877c0da8",
   "metadata": {},
   "outputs": [],
   "source": [
    "def buddyStrings(s, goal):\n",
    "    if len(s) != len(goal):\n",
    "        return False\n",
    "\n",
    "    mismatch_indices = []\n",
    "    common_chars = []\n",
    "\n",
    "    for i in range(len(s)):\n",
    "        if s[i] != goal[i]:\n",
    "            mismatch_indices.append(i)\n",
    "        else:\n",
    "            common_chars.append(s[i])\n",
    "\n",
    "    if len(mismatch_indices) != 2:\n",
    "        return False\n",
    "\n",
    "    i, j = mismatch_indices\n",
    "    return s[i] == goal[j] and s[j] == goal[i] and len(common_chars) > 0"
   ]
  },
  {
   "cell_type": "code",
   "execution_count": 18,
   "id": "d25c63e4",
   "metadata": {},
   "outputs": [
    {
     "data": {
      "text/plain": [
       "False"
      ]
     },
     "execution_count": 18,
     "metadata": {},
     "output_type": "execute_result"
    }
   ],
   "source": [
    "buddyStrings(\"ab\", \"ba\")"
   ]
  },
  {
   "cell_type": "markdown",
   "id": "d76a74b1",
   "metadata": {},
   "source": [
    "The algorithm has a linear time complexity as it iterates over the characters in s and goal once. The space complexity is also linear, as the size of the mismatch_indices and common_chars lists will depend on the length of the input strings."
   ]
  },
  {
   "cell_type": "markdown",
   "id": "05bd044c",
   "metadata": {},
   "source": [
    "The algorithm has a linear time complexity as it iterates over the characters in s and goal once. The space complexity is also linear, as the size of the mismatch_indices and common_chars lists will depend on the length of the input strings."
   ]
  },
  {
   "cell_type": "code",
   "execution_count": null,
   "id": "35e5e155",
   "metadata": {},
   "outputs": [],
   "source": []
  }
 ],
 "metadata": {
  "kernelspec": {
   "display_name": "Python 3 (ipykernel)",
   "language": "python",
   "name": "python3"
  },
  "language_info": {
   "codemirror_mode": {
    "name": "ipython",
    "version": 3
   },
   "file_extension": ".py",
   "mimetype": "text/x-python",
   "name": "python",
   "nbconvert_exporter": "python",
   "pygments_lexer": "ipython3",
   "version": "3.9.7"
  }
 },
 "nbformat": 4,
 "nbformat_minor": 5
}
